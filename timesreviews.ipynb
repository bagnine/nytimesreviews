{
 "metadata": {
  "language_info": {
   "codemirror_mode": {
    "name": "ipython",
    "version": 3
   },
   "file_extension": ".py",
   "mimetype": "text/x-python",
   "name": "python",
   "nbconvert_exporter": "python",
   "pygments_lexer": "ipython3",
   "version": "3.6.9-final"
  },
  "orig_nbformat": 2,
  "kernelspec": {
   "name": "python3",
   "display_name": "Python 3.6.9 64-bit ('learn-env': conda)",
   "metadata": {
    "interpreter": {
     "hash": "9b546e02e2ae7bc31ff393e72c59458abdd61657dbde44a42856f782e397745f"
    }
   }
  }
 },
 "nbformat": 4,
 "nbformat_minor": 2,
 "cells": [
  {
   "cell_type": "code",
   "execution_count": 1,
   "metadata": {},
   "outputs": [],
   "source": [
    "import json\n",
    "import numpy as np\n",
    "import pandas as pd\n",
    "import requests\n",
    "import time\n",
    "import googlemaps\n",
    "from bs4 import BeautifulSoup"
   ]
  },
  {
   "cell_type": "code",
   "execution_count": 3,
   "metadata": {},
   "outputs": [],
   "source": [
    "# load api keys\n",
    "\n",
    "key = open('APIkeys.txt', 'r')\n",
    "goog_key = open('google_places_api_key.txt', 'r')"
   ]
  },
  {
   "cell_type": "code",
   "execution_count": 4,
   "metadata": {},
   "outputs": [],
   "source": [
    "keys = list(key)"
   ]
  },
  {
   "cell_type": "code",
   "execution_count": 5,
   "metadata": {},
   "outputs": [],
   "source": [
    "# save keys as strings\n",
    "\n",
    "api_key = keys[0].split()[2]\n",
    "goog_api_key = list(goog_key)[0][11:-1]"
   ]
  },
  {
   "cell_type": "code",
   "execution_count": 6,
   "metadata": {},
   "outputs": [],
   "source": [
    "# instantiate googlemaps object\n",
    "\n",
    "gmaps = googlemaps.Client(key=goog_api_key)"
   ]
  },
  {
   "cell_type": "code",
   "execution_count": 7,
   "metadata": {},
   "outputs": [],
   "source": [
    "# create a url constructor for querying the NYTimes API based on possible input fields\n",
    "\n",
    "def nytimes_query(api_key, query, \n",
    "                  glocations = None, headline = None, news_desk = None, \n",
    "                  organizations = None, persons = None, byline = None, \n",
    "                  subject = None, news_type = None, type_of_material = None, \n",
    "                  begin_date = None, end_date = None, n_page = 0):\n",
    "    '''\n",
    "    Perform a query from the NYTimes API and return a JSON of results\n",
    "    ----\n",
    "    Arguments:\n",
    "    api-key -- a user-specific key registered at developer.nytimes.com\n",
    "    query -- the search terms used for the query\n",
    "    \n",
    "    filters:\n",
    "        each of the following categories is set at None by default. If values are added, the\n",
    "        queries will be filtered based on the parameter\n",
    "\n",
    "        glocations -- geographic locations\n",
    "        headline -- literal headline\n",
    "        news_desk -- by news desk using the following values:\n",
    "            Adventure Sports\n",
    "            Arts & Leisure\n",
    "            Arts\n",
    "            Automobiles\n",
    "            Blogs\n",
    "            Books\n",
    "            Booming\n",
    "            Business Day\n",
    "            Business\n",
    "            Cars\n",
    "            Circuits\n",
    "            Classifieds\n",
    "            Connecticut\n",
    "            Crosswords & Games\n",
    "            Culture\n",
    "            DealBook\n",
    "            Dining\n",
    "            Editorial\n",
    "            Education\n",
    "            Energy\n",
    "            Entrepreneurs\n",
    "            Environment\n",
    "            Escapes\n",
    "            Fashion & Style\n",
    "            Fashion\n",
    "            Favorites\n",
    "            Financial\n",
    "            Flight\n",
    "            Food\n",
    "            Foreign\n",
    "            Generations\n",
    "            Giving\n",
    "            Global Home\n",
    "            Health & Fitness\n",
    "            Health\n",
    "            Home & Garden\n",
    "            Home\n",
    "            Jobs\n",
    "            Key\n",
    "            Letters\n",
    "            Long Island\n",
    "            Magazine\n",
    "            Market Place\n",
    "            Media\n",
    "            Men's Health\n",
    "            Metro\n",
    "            Metropolitan\n",
    "            Movies\n",
    "            Museums\n",
    "            National\n",
    "            Nesting\n",
    "            Obits\n",
    "            Obituaries\n",
    "            Obituary\n",
    "            OpEd\n",
    "            Opinion\n",
    "            Outlook\n",
    "            Personal Investing\n",
    "            Personal Tech\n",
    "            Play\n",
    "            Politics\n",
    "            Regionals\n",
    "            Retail\n",
    "            Retirement\n",
    "            Science\n",
    "            Small Business\n",
    "            Society\n",
    "            Sports\n",
    "            Style\n",
    "            Sunday Business\n",
    "            Sunday Review\n",
    "            Sunday Styles\n",
    "            T Magazine\n",
    "            T Style\n",
    "            Technology\n",
    "            Teens\n",
    "            Television\n",
    "            The Arts\n",
    "            The Business of Green\n",
    "            The City Desk\n",
    "            The City\n",
    "            The Marathon\n",
    "            The Millennium\n",
    "            The Natural World\n",
    "            The Upshot\n",
    "            The Weekend\n",
    "            The Year in Pictures\n",
    "            Theater\n",
    "            Then & Now\n",
    "            Thursday Styles\n",
    "            Times Topics\n",
    "            Travel\n",
    "            U.S.\n",
    "            Universal\n",
    "            Upshot\n",
    "            UrbanEye\n",
    "            Vacation\n",
    "            Washington\n",
    "            Wealth\n",
    "            Weather\n",
    "            Week in Review\n",
    "            Week\n",
    "            Weekend\n",
    "            Westchester\n",
    "            Wireless Living\n",
    "            Women's Health\n",
    "            Working\n",
    "            Workplace\n",
    "            World\n",
    "            Your Money\n",
    "        organizations \n",
    "        persons -- filter by persons referenced\n",
    "        byline -- filter by writer or several other parameters- see developer.nytimes.com\n",
    "        subject -- by subject\n",
    "        type_of_material -- document type- sample values below:\n",
    "            Addendum\n",
    "            An Analysis\n",
    "            An Appraisal\n",
    "            Archives\n",
    "            Article\n",
    "            Banner\n",
    "            Biography\n",
    "            Birth Notice\n",
    "            Blog\n",
    "            Brief\n",
    "            Caption\n",
    "            Chronology\n",
    "            Column\n",
    "            Correction\n",
    "            Economic Analysis\n",
    "            Editorial\n",
    "            Editorial Cartoon\n",
    "            Editors' Note\n",
    "            First Chapter\n",
    "            Front Page\n",
    "            Glossary\n",
    "            Interactive Feature\n",
    "            Interactive Graphic\n",
    "            Interview\n",
    "            Letter\n",
    "            List\n",
    "            Marriage Announcement\n",
    "            Military Analysis\n",
    "            News\n",
    "            News Analysis\n",
    "            Newsletter\n",
    "            Obituary\n",
    "            Obituary (Obit)\n",
    "            Op-Ed\n",
    "            Paid Death Notice\n",
    "            Postscript\n",
    "            Premium\n",
    "            Question\n",
    "            Quote\n",
    "            Recipe\n",
    "            Review\n",
    "            Schedule\n",
    "            SectionFront\n",
    "            Series\n",
    "            Slideshow\n",
    "            Special Report\n",
    "            Statistics\n",
    "            Summary\n",
    "            Text\n",
    "            Video\n",
    "            Web Log\n",
    "\n",
    "    date params:\n",
    "        begin_date -- beginning date of filter \n",
    "        end_date -- end date of filter\n",
    "    n_page -- the selected page of returns- for large queries this will select sections to return\n",
    "    '''\n",
    "    # Set the base url for the query\n",
    "    base_url = f'https://api.nytimes.com/svc/search/v2/articlesearch.json?q={query}'             \n",
    "    # Empty dictionary for filters\n",
    "    filter_queries = {}\n",
    "    # empty dictionary for dates\n",
    "    dates = {}\n",
    "\n",
    "    # Populate the filter dictionary\n",
    "    if glocations:\n",
    "        filter_queries.update({'glocations': glocations})\n",
    "    if headline:\n",
    "        filter_queries.update({'headline': headline})\n",
    "    if news_desk:\n",
    "        filter_queries.update({'news_desk': news_desk})\n",
    "    if organizations:\n",
    "        filter_queries.update({'organizations': organizations})\n",
    "    if persons:\n",
    "        filter_queries.update({'persons': persons})\n",
    "    if subject:\n",
    "        filter_queries.update({'subject': subject})\n",
    "    if byline:\n",
    "        filter_queries.update({'byline': byline})\n",
    "    if news_type:\n",
    "        filter_queries.update({'news_type': news_type})\n",
    "    if type_of_material:\n",
    "        filter_queries.update({'type_of_material': type_of_material})\n",
    "    \n",
    "    # Populate the date dictionary\n",
    "    if begin_date:\n",
    "        dates.update({'begin_date': begin_date})\n",
    "    if end_date:\n",
    "        dates.update({'end_date': end_date})\n",
    "    \n",
    "    # If 1 filter is present, and/or date params, add to URL and execute query\n",
    "    if len(filter_queries) == 1:\n",
    "        base_url += f'&fq={list(filter_queries.keys())[0]}:({list(filter_queries.values())[0]})'\n",
    "        if len(dates) == 1:\n",
    "            base_url += f'&{list(filter_queries.keys())[0]}={list(filter_queries.values())[0]}&'\n",
    "        elif len(dates) == 2:\n",
    "            base_url += '&'\n",
    "            for i in dates.keys():\n",
    "                base_url += f'{i}={dates[i]}&'\n",
    "\n",
    "    # If 2 or more filters are present, concatenate with AND, add dates if present and execute\n",
    "    elif  len(filter_queries) > 1:\n",
    "        base_url += '&fq='\n",
    "        for i in filter_queries.keys():\n",
    "            base_url += f'{i}:({filter_queries[i]}) AND '\n",
    "        base_url = base_url[:-5]\n",
    "        if len(dates) == 1:\n",
    "            base_url += f'&{list(filter_queries.keys())[0]}={list(filter_queries.values())[0]}&'\n",
    "        elif len(dates) == 2:\n",
    "            base_url += '&'\n",
    "            for i in dates.keys():\n",
    "                base_url += f'{i}={dates[i]}&'\n",
    "\n",
    "    # concatenate page number and api key and make the request. \n",
    "    # Returns a truncated JSON indexed past the metadata\n",
    "    base_url += f'&page={n_page}'\n",
    "    base_url += f'&api-key={api_key}'\n",
    "    r = requests.get(base_url)\n",
    "    json_data = r.json()\n",
    "    return r.json()['response']['docs']"
   ]
  },
  {
   "cell_type": "code",
   "execution_count": 8,
   "metadata": {},
   "outputs": [],
   "source": [
    "# create a function to run n queries using the constructor function above\n",
    "\n",
    "def review_url_names(api_key, query, n_pages_min, n_pages_max, **kwargs):\n",
    "    ''''''\n",
    "    urls = []\n",
    "    names = []\n",
    "    dates = []\n",
    "    for i in range(n_pages_min, n_pages_max):\n",
    "        qref = nytimes_query(api_key, query, n_page = i, **kwargs)\n",
    "        names += [j['web_url'].split('dining/')[1][:-5].replace('-', ' ').replace('reviews/', '') for j in qref]\n",
    "        urls += [k['web_url'] for k in qref]\n",
    "        dates += [m['pub_date'] for m in qref]\n",
    "        time.sleep(6)\n",
    "    return urls, names, dates"
   ]
  },
  {
   "cell_type": "code",
   "execution_count": 9,
   "metadata": {},
   "outputs": [],
   "source": [
    "urls, restaurants_100, dates = review_url_names(api_key, 'Pete Wells', news_desk = 'Dining', type_of_material = 'Review', begin_date = '20120101', end_date = '20210401' n_pages_min = 0, n_pages_max = 80)\n",
    "# run again with end date"
   ]
  },
  {
   "cell_type": "code",
   "execution_count": 79,
   "metadata": {},
   "outputs": [],
   "source": [
    "# attempting to iterate through kwargs in order to shorten the if statements in the main function\n",
    "\n",
    "# def test_function(glocations = None, headline = None, news_desk = None, \n",
    "#                   organizations = None, persons = None, byline = None, \n",
    "#                   subject = None, news_type = None, type_of_material = None, \n",
    "#                   begin_date = None, end_date = None):\n",
    "#     for i in [glocations, headline, news_desk, \n",
    "#               organizations, persons, byline, \n",
    "#               subject, news_type, type_of_material]:\n",
    "#         if i:\n",
    "#             print(i)\n"
   ]
  },
  {
   "cell_type": "code",
   "execution_count": 12,
   "metadata": {},
   "outputs": [],
   "source": [
    "df = pd.DataFrame(index = dates)"
   ]
  },
  {
   "cell_type": "code",
   "execution_count": 13,
   "metadata": {},
   "outputs": [],
   "source": [
    "df['urls'] = urls"
   ]
  },
  {
   "cell_type": "code",
   "execution_count": 14,
   "metadata": {},
   "outputs": [],
   "source": [
    "df['restaurants'] = restaurants_100"
   ]
  },
  {
   "cell_type": "code",
   "execution_count": 15,
   "metadata": {},
   "outputs": [
    {
     "output_type": "execute_result",
     "data": {
      "text/plain": [
       "                                                                       urls  \\\n",
       "2021-03-08T18:31:52+0000  https://www.nytimes.com/2021/03/08/dining/whea...   \n",
       "2021-03-01T18:03:31+0000  https://www.nytimes.com/2021/03/01/dining/winn...   \n",
       "2021-02-12T18:36:55+0000  https://www.nytimes.com/2021/02/12/dining/fala...   \n",
       "2020-12-01T17:44:20+0000  https://www.nytimes.com/2020/12/01/dining/ayat...   \n",
       "2020-11-23T18:00:37+0000  https://www.nytimes.com/2020/11/23/dining/bila...   \n",
       "\n",
       "                                               restaurants  \n",
       "2021-03-08T18:31:52+0000  wheated pizza washington squares  \n",
       "2021-03-01T18:03:31+0000          winner restaurant review  \n",
       "2021-02-12T18:36:55+0000   falansai review vietnamese food  \n",
       "2020-12-01T17:44:20+0000      ayat review palestinian food  \n",
       "2020-11-23T18:00:37+0000                      bilao review  "
      ],
      "text/html": "<div>\n<style scoped>\n    .dataframe tbody tr th:only-of-type {\n        vertical-align: middle;\n    }\n\n    .dataframe tbody tr th {\n        vertical-align: top;\n    }\n\n    .dataframe thead th {\n        text-align: right;\n    }\n</style>\n<table border=\"1\" class=\"dataframe\">\n  <thead>\n    <tr style=\"text-align: right;\">\n      <th></th>\n      <th>urls</th>\n      <th>restaurants</th>\n    </tr>\n  </thead>\n  <tbody>\n    <tr>\n      <th>2021-03-08T18:31:52+0000</th>\n      <td>https://www.nytimes.com/2021/03/08/dining/whea...</td>\n      <td>wheated pizza washington squares</td>\n    </tr>\n    <tr>\n      <th>2021-03-01T18:03:31+0000</th>\n      <td>https://www.nytimes.com/2021/03/01/dining/winn...</td>\n      <td>winner restaurant review</td>\n    </tr>\n    <tr>\n      <th>2021-02-12T18:36:55+0000</th>\n      <td>https://www.nytimes.com/2021/02/12/dining/fala...</td>\n      <td>falansai review vietnamese food</td>\n    </tr>\n    <tr>\n      <th>2020-12-01T17:44:20+0000</th>\n      <td>https://www.nytimes.com/2020/12/01/dining/ayat...</td>\n      <td>ayat review palestinian food</td>\n    </tr>\n    <tr>\n      <th>2020-11-23T18:00:37+0000</th>\n      <td>https://www.nytimes.com/2020/11/23/dining/bila...</td>\n      <td>bilao review</td>\n    </tr>\n  </tbody>\n</table>\n</div>"
     },
     "metadata": {},
     "execution_count": 15
    }
   ],
   "source": [
    "df.head()"
   ]
  },
  {
   "cell_type": "code",
   "execution_count": 16,
   "metadata": {},
   "outputs": [],
   "source": [
    "df['restaurants'] = df.restaurants.apply(lambda i: i.replace(' review', '').replace('pete wells', '').replace('restaurant', '').replace('on the lower east side', ''))"
   ]
  },
  {
   "cell_type": "code",
   "execution_count": 17,
   "metadata": {},
   "outputs": [
    {
     "output_type": "execute_result",
     "data": {
      "text/plain": [
       "                                                                       urls  \\\n",
       "2021-03-08T18:31:52+0000  https://www.nytimes.com/2021/03/08/dining/whea...   \n",
       "2021-03-01T18:03:31+0000  https://www.nytimes.com/2021/03/01/dining/winn...   \n",
       "2021-02-12T18:36:55+0000  https://www.nytimes.com/2021/02/12/dining/fala...   \n",
       "2020-12-01T17:44:20+0000  https://www.nytimes.com/2020/12/01/dining/ayat...   \n",
       "2020-11-23T18:00:37+0000  https://www.nytimes.com/2020/11/23/dining/bila...   \n",
       "\n",
       "                                               restaurants  \n",
       "2021-03-08T18:31:52+0000  wheated pizza washington squares  \n",
       "2021-03-01T18:03:31+0000                           winner   \n",
       "2021-02-12T18:36:55+0000          falansai vietnamese food  \n",
       "2020-12-01T17:44:20+0000             ayat palestinian food  \n",
       "2020-11-23T18:00:37+0000                             bilao  "
      ],
      "text/html": "<div>\n<style scoped>\n    .dataframe tbody tr th:only-of-type {\n        vertical-align: middle;\n    }\n\n    .dataframe tbody tr th {\n        vertical-align: top;\n    }\n\n    .dataframe thead th {\n        text-align: right;\n    }\n</style>\n<table border=\"1\" class=\"dataframe\">\n  <thead>\n    <tr style=\"text-align: right;\">\n      <th></th>\n      <th>urls</th>\n      <th>restaurants</th>\n    </tr>\n  </thead>\n  <tbody>\n    <tr>\n      <th>2021-03-08T18:31:52+0000</th>\n      <td>https://www.nytimes.com/2021/03/08/dining/whea...</td>\n      <td>wheated pizza washington squares</td>\n    </tr>\n    <tr>\n      <th>2021-03-01T18:03:31+0000</th>\n      <td>https://www.nytimes.com/2021/03/01/dining/winn...</td>\n      <td>winner</td>\n    </tr>\n    <tr>\n      <th>2021-02-12T18:36:55+0000</th>\n      <td>https://www.nytimes.com/2021/02/12/dining/fala...</td>\n      <td>falansai vietnamese food</td>\n    </tr>\n    <tr>\n      <th>2020-12-01T17:44:20+0000</th>\n      <td>https://www.nytimes.com/2020/12/01/dining/ayat...</td>\n      <td>ayat palestinian food</td>\n    </tr>\n    <tr>\n      <th>2020-11-23T18:00:37+0000</th>\n      <td>https://www.nytimes.com/2020/11/23/dining/bila...</td>\n      <td>bilao</td>\n    </tr>\n  </tbody>\n</table>\n</div>"
     },
     "metadata": {},
     "execution_count": 17
    }
   ],
   "source": [
    "df.head()"
   ]
  },
  {
   "cell_type": "code",
   "execution_count": 58,
   "metadata": {},
   "outputs": [],
   "source": [
    "# df.to_csv('restaurants.csv')"
   ]
  },
  {
   "cell_type": "code",
   "execution_count": 9,
   "metadata": {},
   "outputs": [],
   "source": [
    "df = pd.read_csv('restaurants.csv')"
   ]
  },
  {
   "cell_type": "code",
   "execution_count": 186,
   "metadata": {},
   "outputs": [
    {
     "output_type": "execute_result",
     "data": {
      "text/plain": [
       "'https://www.nytimes.com/2012/03/07/dining/reviews/pok-pok-wing-on-the-lower-east-side.html'"
      ]
     },
     "metadata": {},
     "execution_count": 186
    }
   ],
   "source": [
    "df.urls[30]"
   ]
  },
  {
   "cell_type": "code",
   "execution_count": 19,
   "metadata": {},
   "outputs": [],
   "source": [
    "page = requests.get('https://www.nytimes.com/2019/03/05/dining/madame-vo-bbq-review.html')\n",
    "soup = BeautifulSoup(page.content, 'html.parser')\n",
    "l = soup.find(class_=\"css-z4hz5\")"
   ]
  },
  {
   "cell_type": "code",
   "execution_count": 21,
   "metadata": {},
   "outputs": [
    {
     "output_type": "execute_result",
     "data": {
      "text/plain": [
       "'★'"
      ]
     },
     "metadata": {},
     "execution_count": 21
    }
   ],
   "source": [
    "l.text"
   ]
  },
  {
   "cell_type": "code",
   "execution_count": 21,
   "metadata": {},
   "outputs": [],
   "source": [
    "stars = []\n",
    "for i in df.urls:\n",
    "    page = requests.get(i)\n",
    "    soup = BeautifulSoup(page.content, 'html.parser')\n",
    "    l = soup.find(class_=\"css-z4hz5\")\n",
    "    if l:\n",
    "        stars.append(l.text)\n",
    "    else:\n",
    "        stars.append(np.NaN)\n",
    "    "
   ]
  },
  {
   "cell_type": "code",
   "execution_count": 22,
   "metadata": {},
   "outputs": [],
   "source": [
    "df['stars'] = stars"
   ]
  },
  {
   "cell_type": "code",
   "execution_count": 23,
   "metadata": {},
   "outputs": [],
   "source": [
    "df['stars'] = df.stars.apply(lambda i: len(i) if type(i) == str else 0)"
   ]
  },
  {
   "cell_type": "code",
   "execution_count": 24,
   "metadata": {},
   "outputs": [
    {
     "output_type": "execute_result",
     "data": {
      "text/plain": [
       "                                                                       urls  \\\n",
       "2021-03-08T18:31:52+0000  https://www.nytimes.com/2021/03/08/dining/whea...   \n",
       "2021-03-01T18:03:31+0000  https://www.nytimes.com/2021/03/01/dining/winn...   \n",
       "2021-02-12T18:36:55+0000  https://www.nytimes.com/2021/02/12/dining/fala...   \n",
       "2020-12-01T17:44:20+0000  https://www.nytimes.com/2020/12/01/dining/ayat...   \n",
       "2020-11-23T18:00:37+0000  https://www.nytimes.com/2020/11/23/dining/bila...   \n",
       "2020-11-10T17:12:25+0000  https://www.nytimes.com/2020/11/10/dining/silv...   \n",
       "2020-10-27T16:30:08+0000  https://www.nytimes.com/2020/10/27/dining/moky...   \n",
       "2020-10-20T16:13:52+0000  https://www.nytimes.com/2020/10/20/dining/pata...   \n",
       "2020-10-06T15:54:22+0000  https://www.nytimes.com/2020/10/06/dining/koko...   \n",
       "2020-09-21T19:30:55+0000  https://www.nytimes.com/2020/09/21/dining/rang...   \n",
       "2019-10-29T14:55:49+0000  https://www.nytimes.com/2019/10/29/dining/pete...   \n",
       "2017-01-24T17:00:49+0000  https://www.nytimes.com/2017/01/24/dining/fowl...   \n",
       "2015-09-22T16:26:35+0000  https://www.nytimes.com/2015/09/23/dining/rest...   \n",
       "2019-03-19T16:30:43+0000  https://www.nytimes.com/2019/03/19/dining/odo-...   \n",
       "2010-09-21T21:24:42+0000  https://www.nytimes.com/2010/09/22/dining/revi...   \n",
       "2016-12-13T19:07:21+0000  https://www.nytimes.com/2016/12/13/dining/best...   \n",
       "2010-02-17T00:37:47+0000  https://www.nytimes.com/2010/02/17/dining/revi...   \n",
       "2018-09-11T15:21:08+0000  https://www.nytimes.com/2018/09/11/dining/sofr...   \n",
       "2015-06-09T16:03:49+0000  https://www.nytimes.com/2015/06/10/dining/rest...   \n",
       "2008-11-04T22:46:58+0000  https://www.nytimes.com/2008/11/05/dining/revi...   \n",
       "2010-03-16T22:34:16+0000  https://www.nytimes.com/2010/03/17/dining/revi...   \n",
       "2010-06-22T22:56:23+0000  https://www.nytimes.com/2010/06/23/dining/revi...   \n",
       "2012-05-08T23:42:36+0000  https://www.nytimes.com/2012/05/09/dining/revi...   \n",
       "2008-12-31T00:48:32+0000  https://www.nytimes.com/2008/12/31/dining/revi...   \n",
       "2011-01-19T00:01:12+0000  https://www.nytimes.com/2011/01/19/dining/revi...   \n",
       "2013-11-14T22:26:03+0000  https://www.nytimes.com/2013/11/20/dining/revi...   \n",
       "2012-02-21T23:58:30+0000  https://www.nytimes.com/2012/02/22/dining/revi...   \n",
       "2016-05-24T15:45:29+0000  https://www.nytimes.com/2016/05/25/dining/indi...   \n",
       "2018-09-18T16:13:02+0000  https://www.nytimes.com/2018/09/18/dining/shoj...   \n",
       "2012-01-11T00:22:48+0000  https://www.nytimes.com/2012/01/11/dining/revi...   \n",
       "2009-09-29T22:54:28+0000  https://www.nytimes.com/2009/09/30/dining/revi...   \n",
       "2012-03-06T23:11:51+0000  https://www.nytimes.com/2012/03/07/dining/revi...   \n",
       "2015-08-11T16:00:23+0000  https://www.nytimes.com/2015/08/12/dining/rest...   \n",
       "2015-07-14T15:28:23+0000  https://www.nytimes.com/2015/07/15/dining/rest...   \n",
       "2016-10-18T15:34:06+0000  https://www.nytimes.com/2016/10/19/dining/kara...   \n",
       "2011-11-08T18:53:22+0000  https://www.nytimes.com/2011/11/09/dining/revi...   \n",
       "2016-01-12T16:18:59+0000  https://www.nytimes.com/2016/01/13/dining/pete...   \n",
       "2016-06-21T15:01:37+0000  https://www.nytimes.com/2016/06/22/dining/grun...   \n",
       "2016-09-06T12:03:06+0000  https://www.nytimes.com/2016/09/07/dining/cass...   \n",
       "2015-08-04T17:26:21+0000  https://www.nytimes.com/2015/08/05/dining/rest...   \n",
       "2019-12-03T16:57:12+0000  https://www.nytimes.com/2019/12/03/dining/nami...   \n",
       "2016-02-09T16:19:44+0000  https://www.nytimes.com/2016/02/10/dining/llam...   \n",
       "2009-06-16T23:50:11+0000  https://www.nytimes.com/2009/06/17/dining/revi...   \n",
       "2016-04-12T16:04:45+0000  https://www.nytimes.com/2016/04/13/dining/i-so...   \n",
       "2016-02-02T16:45:59+0000  https://www.nytimes.com/2016/02/03/dining/beno...   \n",
       "2010-08-31T23:16:51+0000  https://www.nytimes.com/2010/09/01/dining/revi...   \n",
       "2014-05-13T17:58:31+0000  https://www.nytimes.com/2014/05/14/dining/rest...   \n",
       "2013-09-17T21:11:59+0000  https://www.nytimes.com/2013/09/18/dining/revi...   \n",
       "2018-12-31T18:34:57+0000  https://www.nytimes.com/2018/12/31/dining/hwab...   \n",
       "2014-01-28T22:00:25+0000  https://www.nytimes.com/2014/01/29/dining/rest...   \n",
       "\n",
       "                                                                restaurants  \\\n",
       "2021-03-08T18:31:52+0000                   wheated pizza washington squares   \n",
       "2021-03-01T18:03:31+0000                                            winner    \n",
       "2021-02-12T18:36:55+0000                           falansai vietnamese food   \n",
       "2020-12-01T17:44:20+0000                              ayat palestinian food   \n",
       "2020-11-23T18:00:37+0000                                              bilao   \n",
       "2020-11-10T17:12:25+0000                                     silver apricot   \n",
       "2020-10-27T16:30:08+0000                                              mokyo   \n",
       "2020-10-20T16:13:52+0000                                pata paplean queens   \n",
       "2020-10-06T15:54:22+0000                                    kokomo brooklyn   \n",
       "2020-09-21T19:30:55+0000                           rangoon burmese food nyc   \n",
       "2019-10-29T14:55:49+0000                                       peter luger    \n",
       "2017-01-24T17:00:49+0000                    fowler and wells  beekman hotel   \n",
       "2015-09-22T16:26:35+0000                        gabriel kreuther in midtown   \n",
       "2019-03-19T16:30:43+0000                                               odo    \n",
       "2010-09-21T21:24:42+0000                                             22rest   \n",
       "2016-12-13T19:07:21+0000                               best  dishes in nyc    \n",
       "2010-02-17T00:37:47+0000                                        17brief 001   \n",
       "2018-09-11T15:21:08+0000                                             sofreh   \n",
       "2015-06-09T16:03:49+0000                              mission chinese food    \n",
       "2008-11-04T22:46:58+0000                                        05brief 001   \n",
       "2010-03-16T22:34:16+0000                                    17dinbriefs 001   \n",
       "2010-06-22T22:56:23+0000                                        23dinbriefs   \n",
       "2012-05-08T23:42:36+0000                                     frej brooklyn    \n",
       "2008-12-31T00:48:32+0000                                        31brief 002   \n",
       "2011-01-19T00:01:12+0000                                      19dinbriefs 2   \n",
       "2013-11-14T22:26:03+0000  wines for thanksgiving mixing without trying t...   \n",
       "2012-02-21T23:58:30+0000                                      allswell nyc    \n",
       "2016-05-24T15:45:29+0000                                     indian accent    \n",
       "2018-09-18T16:13:02+0000                         shoji at 69 leonard street   \n",
       "2012-01-11T00:22:48+0000                                        onegin nyc    \n",
       "2009-09-29T22:54:28+0000                                        30brief 001   \n",
       "2012-03-06T23:11:51+0000                                      pok pok wing    \n",
       "2015-08-11T16:00:23+0000                               chevalier in midtown   \n",
       "2015-07-14T15:28:23+0000                                  rebelle in nolita   \n",
       "2016-10-18T15:34:06+0000                          karasu zadies oyster room   \n",
       "2011-11-08T18:53:22+0000                      wines for thanksgiving dinner   \n",
       "2016-01-12T16:18:59+0000                                             per se   \n",
       "2016-06-21T15:01:37+0000                                    grunauer bistro   \n",
       "2016-09-06T12:03:06+0000                              cassia santa monica     \n",
       "2015-08-04T17:26:21+0000   untitled at the whitney in the meatpacking di...   \n",
       "2019-12-03T16:57:12+0000                                         nami nori    \n",
       "2016-02-09T16:19:44+0000                                          llama inn   \n",
       "2009-06-16T23:50:11+0000                                        17brief 001   \n",
       "2016-04-12T16:04:45+0000                                            i sodi    \n",
       "2016-02-02T16:45:59+0000                                             benoit   \n",
       "2010-08-31T23:16:51+0000                                      01dinbriefs 2   \n",
       "2014-05-13T17:58:31+0000                          el quinto pino in chelsea   \n",
       "2013-09-17T21:11:59+0000                                   estela in nolita   \n",
       "2018-12-31T18:34:57+0000                                     hwaban korean    \n",
       "2014-01-28T22:00:25+0000      m wells steakhouse in long island city queens   \n",
       "\n",
       "                          stars  \n",
       "2021-03-08T18:31:52+0000      0  \n",
       "2021-03-01T18:03:31+0000      0  \n",
       "2021-02-12T18:36:55+0000      0  \n",
       "2020-12-01T17:44:20+0000      0  \n",
       "2020-11-23T18:00:37+0000      0  \n",
       "2020-11-10T17:12:25+0000      0  \n",
       "2020-10-27T16:30:08+0000      0  \n",
       "2020-10-20T16:13:52+0000      0  \n",
       "2020-10-06T15:54:22+0000      0  \n",
       "2020-09-21T19:30:55+0000      0  \n",
       "2019-10-29T14:55:49+0000      0  \n",
       "2017-01-24T17:00:49+0000      2  \n",
       "2015-09-22T16:26:35+0000      3  \n",
       "2019-03-19T16:30:43+0000      3  \n",
       "2010-09-21T21:24:42+0000      0  \n",
       "2016-12-13T19:07:21+0000      0  \n",
       "2010-02-17T00:37:47+0000      0  \n",
       "2018-09-11T15:21:08+0000      2  \n",
       "2015-06-09T16:03:49+0000      2  \n",
       "2008-11-04T22:46:58+0000      0  \n",
       "2010-03-16T22:34:16+0000      0  \n",
       "2010-06-22T22:56:23+0000      0  \n",
       "2012-05-08T23:42:36+0000      0  \n",
       "2008-12-31T00:48:32+0000      0  \n",
       "2011-01-19T00:01:12+0000      0  \n",
       "2013-11-14T22:26:03+0000      0  \n",
       "2012-02-21T23:58:30+0000      0  \n",
       "2016-05-24T15:45:29+0000      2  \n",
       "2018-09-18T16:13:02+0000      3  \n",
       "2012-01-11T00:22:48+0000      0  \n",
       "2009-09-29T22:54:28+0000      0  \n",
       "2012-03-06T23:11:51+0000      0  \n",
       "2015-08-11T16:00:23+0000      2  \n",
       "2015-07-14T15:28:23+0000      2  \n",
       "2016-10-18T15:34:06+0000      1  \n",
       "2011-11-08T18:53:22+0000      0  \n",
       "2016-01-12T16:18:59+0000      2  \n",
       "2016-06-21T15:01:37+0000      1  \n",
       "2016-09-06T12:03:06+0000      3  \n",
       "2015-08-04T17:26:21+0000      2  \n",
       "2019-12-03T16:57:12+0000      2  \n",
       "2016-02-09T16:19:44+0000      2  \n",
       "2009-06-16T23:50:11+0000      0  \n",
       "2016-04-12T16:04:45+0000      2  \n",
       "2016-02-02T16:45:59+0000      2  \n",
       "2010-08-31T23:16:51+0000      0  \n",
       "2014-05-13T17:58:31+0000      2  \n",
       "2013-09-17T21:11:59+0000      2  \n",
       "2018-12-31T18:34:57+0000      2  \n",
       "2014-01-28T22:00:25+0000      1  "
      ],
      "text/html": "<div>\n<style scoped>\n    .dataframe tbody tr th:only-of-type {\n        vertical-align: middle;\n    }\n\n    .dataframe tbody tr th {\n        vertical-align: top;\n    }\n\n    .dataframe thead th {\n        text-align: right;\n    }\n</style>\n<table border=\"1\" class=\"dataframe\">\n  <thead>\n    <tr style=\"text-align: right;\">\n      <th></th>\n      <th>urls</th>\n      <th>restaurants</th>\n      <th>stars</th>\n    </tr>\n  </thead>\n  <tbody>\n    <tr>\n      <th>2021-03-08T18:31:52+0000</th>\n      <td>https://www.nytimes.com/2021/03/08/dining/whea...</td>\n      <td>wheated pizza washington squares</td>\n      <td>0</td>\n    </tr>\n    <tr>\n      <th>2021-03-01T18:03:31+0000</th>\n      <td>https://www.nytimes.com/2021/03/01/dining/winn...</td>\n      <td>winner</td>\n      <td>0</td>\n    </tr>\n    <tr>\n      <th>2021-02-12T18:36:55+0000</th>\n      <td>https://www.nytimes.com/2021/02/12/dining/fala...</td>\n      <td>falansai vietnamese food</td>\n      <td>0</td>\n    </tr>\n    <tr>\n      <th>2020-12-01T17:44:20+0000</th>\n      <td>https://www.nytimes.com/2020/12/01/dining/ayat...</td>\n      <td>ayat palestinian food</td>\n      <td>0</td>\n    </tr>\n    <tr>\n      <th>2020-11-23T18:00:37+0000</th>\n      <td>https://www.nytimes.com/2020/11/23/dining/bila...</td>\n      <td>bilao</td>\n      <td>0</td>\n    </tr>\n    <tr>\n      <th>2020-11-10T17:12:25+0000</th>\n      <td>https://www.nytimes.com/2020/11/10/dining/silv...</td>\n      <td>silver apricot</td>\n      <td>0</td>\n    </tr>\n    <tr>\n      <th>2020-10-27T16:30:08+0000</th>\n      <td>https://www.nytimes.com/2020/10/27/dining/moky...</td>\n      <td>mokyo</td>\n      <td>0</td>\n    </tr>\n    <tr>\n      <th>2020-10-20T16:13:52+0000</th>\n      <td>https://www.nytimes.com/2020/10/20/dining/pata...</td>\n      <td>pata paplean queens</td>\n      <td>0</td>\n    </tr>\n    <tr>\n      <th>2020-10-06T15:54:22+0000</th>\n      <td>https://www.nytimes.com/2020/10/06/dining/koko...</td>\n      <td>kokomo brooklyn</td>\n      <td>0</td>\n    </tr>\n    <tr>\n      <th>2020-09-21T19:30:55+0000</th>\n      <td>https://www.nytimes.com/2020/09/21/dining/rang...</td>\n      <td>rangoon burmese food nyc</td>\n      <td>0</td>\n    </tr>\n    <tr>\n      <th>2019-10-29T14:55:49+0000</th>\n      <td>https://www.nytimes.com/2019/10/29/dining/pete...</td>\n      <td>peter luger</td>\n      <td>0</td>\n    </tr>\n    <tr>\n      <th>2017-01-24T17:00:49+0000</th>\n      <td>https://www.nytimes.com/2017/01/24/dining/fowl...</td>\n      <td>fowler and wells  beekman hotel</td>\n      <td>2</td>\n    </tr>\n    <tr>\n      <th>2015-09-22T16:26:35+0000</th>\n      <td>https://www.nytimes.com/2015/09/23/dining/rest...</td>\n      <td>gabriel kreuther in midtown</td>\n      <td>3</td>\n    </tr>\n    <tr>\n      <th>2019-03-19T16:30:43+0000</th>\n      <td>https://www.nytimes.com/2019/03/19/dining/odo-...</td>\n      <td>odo</td>\n      <td>3</td>\n    </tr>\n    <tr>\n      <th>2010-09-21T21:24:42+0000</th>\n      <td>https://www.nytimes.com/2010/09/22/dining/revi...</td>\n      <td>22rest</td>\n      <td>0</td>\n    </tr>\n    <tr>\n      <th>2016-12-13T19:07:21+0000</th>\n      <td>https://www.nytimes.com/2016/12/13/dining/best...</td>\n      <td>best  dishes in nyc</td>\n      <td>0</td>\n    </tr>\n    <tr>\n      <th>2010-02-17T00:37:47+0000</th>\n      <td>https://www.nytimes.com/2010/02/17/dining/revi...</td>\n      <td>17brief 001</td>\n      <td>0</td>\n    </tr>\n    <tr>\n      <th>2018-09-11T15:21:08+0000</th>\n      <td>https://www.nytimes.com/2018/09/11/dining/sofr...</td>\n      <td>sofreh</td>\n      <td>2</td>\n    </tr>\n    <tr>\n      <th>2015-06-09T16:03:49+0000</th>\n      <td>https://www.nytimes.com/2015/06/10/dining/rest...</td>\n      <td>mission chinese food</td>\n      <td>2</td>\n    </tr>\n    <tr>\n      <th>2008-11-04T22:46:58+0000</th>\n      <td>https://www.nytimes.com/2008/11/05/dining/revi...</td>\n      <td>05brief 001</td>\n      <td>0</td>\n    </tr>\n    <tr>\n      <th>2010-03-16T22:34:16+0000</th>\n      <td>https://www.nytimes.com/2010/03/17/dining/revi...</td>\n      <td>17dinbriefs 001</td>\n      <td>0</td>\n    </tr>\n    <tr>\n      <th>2010-06-22T22:56:23+0000</th>\n      <td>https://www.nytimes.com/2010/06/23/dining/revi...</td>\n      <td>23dinbriefs</td>\n      <td>0</td>\n    </tr>\n    <tr>\n      <th>2012-05-08T23:42:36+0000</th>\n      <td>https://www.nytimes.com/2012/05/09/dining/revi...</td>\n      <td>frej brooklyn</td>\n      <td>0</td>\n    </tr>\n    <tr>\n      <th>2008-12-31T00:48:32+0000</th>\n      <td>https://www.nytimes.com/2008/12/31/dining/revi...</td>\n      <td>31brief 002</td>\n      <td>0</td>\n    </tr>\n    <tr>\n      <th>2011-01-19T00:01:12+0000</th>\n      <td>https://www.nytimes.com/2011/01/19/dining/revi...</td>\n      <td>19dinbriefs 2</td>\n      <td>0</td>\n    </tr>\n    <tr>\n      <th>2013-11-14T22:26:03+0000</th>\n      <td>https://www.nytimes.com/2013/11/20/dining/revi...</td>\n      <td>wines for thanksgiving mixing without trying t...</td>\n      <td>0</td>\n    </tr>\n    <tr>\n      <th>2012-02-21T23:58:30+0000</th>\n      <td>https://www.nytimes.com/2012/02/22/dining/revi...</td>\n      <td>allswell nyc</td>\n      <td>0</td>\n    </tr>\n    <tr>\n      <th>2016-05-24T15:45:29+0000</th>\n      <td>https://www.nytimes.com/2016/05/25/dining/indi...</td>\n      <td>indian accent</td>\n      <td>2</td>\n    </tr>\n    <tr>\n      <th>2018-09-18T16:13:02+0000</th>\n      <td>https://www.nytimes.com/2018/09/18/dining/shoj...</td>\n      <td>shoji at 69 leonard street</td>\n      <td>3</td>\n    </tr>\n    <tr>\n      <th>2012-01-11T00:22:48+0000</th>\n      <td>https://www.nytimes.com/2012/01/11/dining/revi...</td>\n      <td>onegin nyc</td>\n      <td>0</td>\n    </tr>\n    <tr>\n      <th>2009-09-29T22:54:28+0000</th>\n      <td>https://www.nytimes.com/2009/09/30/dining/revi...</td>\n      <td>30brief 001</td>\n      <td>0</td>\n    </tr>\n    <tr>\n      <th>2012-03-06T23:11:51+0000</th>\n      <td>https://www.nytimes.com/2012/03/07/dining/revi...</td>\n      <td>pok pok wing</td>\n      <td>0</td>\n    </tr>\n    <tr>\n      <th>2015-08-11T16:00:23+0000</th>\n      <td>https://www.nytimes.com/2015/08/12/dining/rest...</td>\n      <td>chevalier in midtown</td>\n      <td>2</td>\n    </tr>\n    <tr>\n      <th>2015-07-14T15:28:23+0000</th>\n      <td>https://www.nytimes.com/2015/07/15/dining/rest...</td>\n      <td>rebelle in nolita</td>\n      <td>2</td>\n    </tr>\n    <tr>\n      <th>2016-10-18T15:34:06+0000</th>\n      <td>https://www.nytimes.com/2016/10/19/dining/kara...</td>\n      <td>karasu zadies oyster room</td>\n      <td>1</td>\n    </tr>\n    <tr>\n      <th>2011-11-08T18:53:22+0000</th>\n      <td>https://www.nytimes.com/2011/11/09/dining/revi...</td>\n      <td>wines for thanksgiving dinner</td>\n      <td>0</td>\n    </tr>\n    <tr>\n      <th>2016-01-12T16:18:59+0000</th>\n      <td>https://www.nytimes.com/2016/01/13/dining/pete...</td>\n      <td>per se</td>\n      <td>2</td>\n    </tr>\n    <tr>\n      <th>2016-06-21T15:01:37+0000</th>\n      <td>https://www.nytimes.com/2016/06/22/dining/grun...</td>\n      <td>grunauer bistro</td>\n      <td>1</td>\n    </tr>\n    <tr>\n      <th>2016-09-06T12:03:06+0000</th>\n      <td>https://www.nytimes.com/2016/09/07/dining/cass...</td>\n      <td>cassia santa monica</td>\n      <td>3</td>\n    </tr>\n    <tr>\n      <th>2015-08-04T17:26:21+0000</th>\n      <td>https://www.nytimes.com/2015/08/05/dining/rest...</td>\n      <td>untitled at the whitney in the meatpacking di...</td>\n      <td>2</td>\n    </tr>\n    <tr>\n      <th>2019-12-03T16:57:12+0000</th>\n      <td>https://www.nytimes.com/2019/12/03/dining/nami...</td>\n      <td>nami nori</td>\n      <td>2</td>\n    </tr>\n    <tr>\n      <th>2016-02-09T16:19:44+0000</th>\n      <td>https://www.nytimes.com/2016/02/10/dining/llam...</td>\n      <td>llama inn</td>\n      <td>2</td>\n    </tr>\n    <tr>\n      <th>2009-06-16T23:50:11+0000</th>\n      <td>https://www.nytimes.com/2009/06/17/dining/revi...</td>\n      <td>17brief 001</td>\n      <td>0</td>\n    </tr>\n    <tr>\n      <th>2016-04-12T16:04:45+0000</th>\n      <td>https://www.nytimes.com/2016/04/13/dining/i-so...</td>\n      <td>i sodi</td>\n      <td>2</td>\n    </tr>\n    <tr>\n      <th>2016-02-02T16:45:59+0000</th>\n      <td>https://www.nytimes.com/2016/02/03/dining/beno...</td>\n      <td>benoit</td>\n      <td>2</td>\n    </tr>\n    <tr>\n      <th>2010-08-31T23:16:51+0000</th>\n      <td>https://www.nytimes.com/2010/09/01/dining/revi...</td>\n      <td>01dinbriefs 2</td>\n      <td>0</td>\n    </tr>\n    <tr>\n      <th>2014-05-13T17:58:31+0000</th>\n      <td>https://www.nytimes.com/2014/05/14/dining/rest...</td>\n      <td>el quinto pino in chelsea</td>\n      <td>2</td>\n    </tr>\n    <tr>\n      <th>2013-09-17T21:11:59+0000</th>\n      <td>https://www.nytimes.com/2013/09/18/dining/revi...</td>\n      <td>estela in nolita</td>\n      <td>2</td>\n    </tr>\n    <tr>\n      <th>2018-12-31T18:34:57+0000</th>\n      <td>https://www.nytimes.com/2018/12/31/dining/hwab...</td>\n      <td>hwaban korean</td>\n      <td>2</td>\n    </tr>\n    <tr>\n      <th>2014-01-28T22:00:25+0000</th>\n      <td>https://www.nytimes.com/2014/01/29/dining/rest...</td>\n      <td>m wells steakhouse in long island city queens</td>\n      <td>1</td>\n    </tr>\n  </tbody>\n</table>\n</div>"
     },
     "metadata": {},
     "execution_count": 24
    }
   ],
   "source": [
    "df[0:50]"
   ]
  },
  {
   "cell_type": "code",
   "execution_count": 34,
   "metadata": {},
   "outputs": [],
   "source": [
    "df = df[~df.restaurants.str.contains('unde')]\n",
    "df = df[~df.restaurants.str.contains('rest')]\n",
    "df = df[~df.restaurants.str.contains('brief')]\n",
    "df = df[~df.restaurants.str.contains('hungry city')]"
   ]
  },
  {
   "cell_type": "code",
   "execution_count": 183,
   "metadata": {},
   "outputs": [
    {
     "output_type": "execute_result",
     "data": {
      "text/plain": [
       "{'candidates': [{'business_status': 'OPERATIONAL',\n",
       "   'formatted_address': '138 Orchard St, New York, NY 10002, United States',\n",
       "   'place_id': 'ChIJT1joy4ZZwokRQOu1I_pG85Q'}],\n",
       " 'status': 'OK'}"
      ]
     },
     "metadata": {},
     "execution_count": 183
    }
   ],
   "source": [
    "gmaps.find_place('Contra NYC', input_type= 'textquery', fields = ['business_status', 'place_id', 'formatted_address'])"
   ]
  },
  {
   "cell_type": "code",
   "execution_count": 10,
   "metadata": {},
   "outputs": [],
   "source": [
    "df.drop(columns = 'Unnamed: 0', inplace = True)"
   ]
  },
  {
   "cell_type": "code",
   "execution_count": 11,
   "metadata": {},
   "outputs": [],
   "source": [
    "df.set_index('Unnamed: 0.1', inplace = True)"
   ]
  },
  {
   "cell_type": "code",
   "execution_count": 12,
   "metadata": {},
   "outputs": [
    {
     "output_type": "execute_result",
     "data": {
      "text/plain": [
       "                                                                       urls  \\\n",
       "Unnamed: 0.1                                                                  \n",
       "2021-03-01T18:03:31+0000  https://www.nytimes.com/2021/03/01/dining/winn...   \n",
       "2021-02-12T18:36:55+0000  https://www.nytimes.com/2021/02/12/dining/fala...   \n",
       "2020-12-01T17:44:20+0000  https://www.nytimes.com/2020/12/01/dining/ayat...   \n",
       "2020-11-23T18:00:37+0000  https://www.nytimes.com/2020/11/23/dining/bila...   \n",
       "2020-11-10T17:12:25+0000  https://www.nytimes.com/2020/11/10/dining/silv...   \n",
       "\n",
       "                                       restaurants  stars  \n",
       "Unnamed: 0.1                                               \n",
       "2021-03-01T18:03:31+0000                   winner       0  \n",
       "2021-02-12T18:36:55+0000  falansai vietnamese food      0  \n",
       "2020-12-01T17:44:20+0000     ayat palestinian food      0  \n",
       "2020-11-23T18:00:37+0000                     bilao      0  \n",
       "2020-11-10T17:12:25+0000            silver apricot      0  "
      ],
      "text/html": "<div>\n<style scoped>\n    .dataframe tbody tr th:only-of-type {\n        vertical-align: middle;\n    }\n\n    .dataframe tbody tr th {\n        vertical-align: top;\n    }\n\n    .dataframe thead th {\n        text-align: right;\n    }\n</style>\n<table border=\"1\" class=\"dataframe\">\n  <thead>\n    <tr style=\"text-align: right;\">\n      <th></th>\n      <th>urls</th>\n      <th>restaurants</th>\n      <th>stars</th>\n    </tr>\n    <tr>\n      <th>Unnamed: 0.1</th>\n      <th></th>\n      <th></th>\n      <th></th>\n    </tr>\n  </thead>\n  <tbody>\n    <tr>\n      <th>2021-03-01T18:03:31+0000</th>\n      <td>https://www.nytimes.com/2021/03/01/dining/winn...</td>\n      <td>winner</td>\n      <td>0</td>\n    </tr>\n    <tr>\n      <th>2021-02-12T18:36:55+0000</th>\n      <td>https://www.nytimes.com/2021/02/12/dining/fala...</td>\n      <td>falansai vietnamese food</td>\n      <td>0</td>\n    </tr>\n    <tr>\n      <th>2020-12-01T17:44:20+0000</th>\n      <td>https://www.nytimes.com/2020/12/01/dining/ayat...</td>\n      <td>ayat palestinian food</td>\n      <td>0</td>\n    </tr>\n    <tr>\n      <th>2020-11-23T18:00:37+0000</th>\n      <td>https://www.nytimes.com/2020/11/23/dining/bila...</td>\n      <td>bilao</td>\n      <td>0</td>\n    </tr>\n    <tr>\n      <th>2020-11-10T17:12:25+0000</th>\n      <td>https://www.nytimes.com/2020/11/10/dining/silv...</td>\n      <td>silver apricot</td>\n      <td>0</td>\n    </tr>\n  </tbody>\n</table>\n</div>"
     },
     "metadata": {},
     "execution_count": 12
    }
   ],
   "source": [
    "df.head()"
   ]
  },
  {
   "cell_type": "code",
   "execution_count": 16,
   "metadata": {},
   "outputs": [
    {
     "output_type": "execute_result",
     "data": {
      "text/plain": [
       "{'candidates': [{'business_status': 'CLOSED_TEMPORARILY',\n",
       "   'formatted_address': '81-19, Broadway, NY 11373, United States',\n",
       "   'place_id': 'ChIJdcuSjVJfwokRZ0w4TUXCA_g'}],\n",
       " 'status': 'OK'}"
      ]
     },
     "metadata": {},
     "execution_count": 16
    }
   ],
   "source": [
    "gmaps.find_place(df['restaurants'][290] + 'NYC', input_type= 'textquery', fields = ['business_status', 'place_id', 'formatted_address'])"
   ]
  },
  {
   "cell_type": "code",
   "execution_count": 203,
   "metadata": {},
   "outputs": [
    {
     "output_type": "execute_result",
     "data": {
      "text/plain": [
       "'thai cook '"
      ]
     },
     "metadata": {},
     "execution_count": 203
    }
   ],
   "source": [
    "df['restaurants'][290]"
   ]
  },
  {
   "cell_type": "code",
   "execution_count": null,
   "metadata": {},
   "outputs": [],
   "source": [
    "def get_rest_info(rest_names = [], rest_location= 'NYC', fields = [], googlemap_object):\n",
    "    dct = {}\n",
    "    for i in rest_names:\n",
    "        dct.update({i: googlemap_object.find_place(\n",
    "            i + rest_location, input_type = 'textquery', fields = fields \n",
    "            )})\n",
    "    "
   ]
  },
  {
   "cell_type": "code",
   "execution_count": 192,
   "metadata": {},
   "outputs": [
    {
     "output_type": "error",
     "ename": "KeyError",
     "evalue": "'business_status'",
     "traceback": [
      "\u001b[0;31m---------------------------------------------------------------------------\u001b[0m",
      "\u001b[0;31mKeyError\u001b[0m                                  Traceback (most recent call last)",
      "\u001b[0;32m<ipython-input-192-adff904c0d25>\u001b[0m in \u001b[0;36m<module>\u001b[0;34m()\u001b[0m\n\u001b[1;32m      1\u001b[0m \u001b[0mfields\u001b[0m \u001b[0;34m=\u001b[0m \u001b[0;34m[\u001b[0m\u001b[0;34m'business_status'\u001b[0m\u001b[0;34m,\u001b[0m \u001b[0;34m'place_id'\u001b[0m\u001b[0;34m,\u001b[0m \u001b[0;34m'formatted_address'\u001b[0m\u001b[0;34m]\u001b[0m\u001b[0;34m\u001b[0m\u001b[0;34m\u001b[0m\u001b[0m\n\u001b[0;32m----> 2\u001b[0;31m \u001b[0mcolumns\u001b[0m \u001b[0;34m=\u001b[0m \u001b[0;34m{\u001b[0m\u001b[0mi\u001b[0m \u001b[0;34m:\u001b[0m \u001b[0mdct\u001b[0m\u001b[0;34m[\u001b[0m\u001b[0mi\u001b[0m\u001b[0;34m]\u001b[0m \u001b[0;32mfor\u001b[0m \u001b[0mi\u001b[0m \u001b[0;32min\u001b[0m \u001b[0mfields\u001b[0m\u001b[0;34m}\u001b[0m\u001b[0;34m\u001b[0m\u001b[0;34m\u001b[0m\u001b[0m\n\u001b[0m",
      "\u001b[0;32m<ipython-input-192-adff904c0d25>\u001b[0m in \u001b[0;36m<dictcomp>\u001b[0;34m(.0)\u001b[0m\n\u001b[1;32m      1\u001b[0m \u001b[0mfields\u001b[0m \u001b[0;34m=\u001b[0m \u001b[0;34m[\u001b[0m\u001b[0;34m'business_status'\u001b[0m\u001b[0;34m,\u001b[0m \u001b[0;34m'place_id'\u001b[0m\u001b[0;34m,\u001b[0m \u001b[0;34m'formatted_address'\u001b[0m\u001b[0;34m]\u001b[0m\u001b[0;34m\u001b[0m\u001b[0;34m\u001b[0m\u001b[0m\n\u001b[0;32m----> 2\u001b[0;31m \u001b[0mcolumns\u001b[0m \u001b[0;34m=\u001b[0m \u001b[0;34m{\u001b[0m\u001b[0mi\u001b[0m \u001b[0;34m:\u001b[0m \u001b[0mdct\u001b[0m\u001b[0;34m[\u001b[0m\u001b[0mi\u001b[0m\u001b[0;34m]\u001b[0m \u001b[0;32mfor\u001b[0m \u001b[0mi\u001b[0m \u001b[0;32min\u001b[0m \u001b[0mfields\u001b[0m\u001b[0;34m}\u001b[0m\u001b[0;34m\u001b[0m\u001b[0;34m\u001b[0m\u001b[0m\n\u001b[0m",
      "\u001b[0;31mKeyError\u001b[0m: 'business_status'"
     ]
    }
   ],
   "source": [
    "fields = ['business_status', 'place_id', 'formatted_address']\n",
    "columns = {i : dct[i] for i in fields}"
   ]
  },
  {
   "cell_type": "code",
   "execution_count": 316,
   "metadata": {},
   "outputs": [
    {
     "output_type": "execute_result",
     "data": {
      "text/plain": [
       "{'candidates': [{'business_status': 'OPERATIONAL',\n",
       "   'formatted_address': '367 7th Ave, Brooklyn, NY 11215, United States',\n",
       "   'name': 'WINNER',\n",
       "   'place_id': 'ChIJg8UZJyNbwokR0-LkfR8MPJQ'}],\n",
       " 'status': 'OK'}"
      ]
     },
     "metadata": {},
     "execution_count": 316
    }
   ],
   "source": [
    "dct['winner ']"
   ]
  },
  {
   "cell_type": "code",
   "execution_count": 188,
   "metadata": {},
   "outputs": [],
   "source": [
    "dct = {}\n",
    "for i in list(df.restaurants):\n",
    "    dct.update({i : gmaps.find_place(i + ' NYC', input_type='textquery', fields = ['name', 'business_status', 'place_id', 'formatted_address'] )})"
   ]
  },
  {
   "cell_type": "code",
   "execution_count": 333,
   "metadata": {},
   "outputs": [],
   "source": [
    "df1_name = []\n",
    "business_status = []\n",
    "formatted_address = []\n",
    "name = []\n",
    "place_id = []\n",
    "\n",
    "\n",
    "\n",
    "for i in dct:\n",
    "    try:\n",
    "        df1_name.append(i)\n",
    "        business_status.append(dct[i]['candidates'][0]['business_status'])\n",
    "        formatted_address.append(dct[i]['candidates'][0]['formatted_address'])\n",
    "        name.append(dct[i]['candidates'][0]['name'])\n",
    "        place_id.append(dct[i]['candidates'][0]['place_id'])\n",
    "    except (IndexError, KeyError):\n",
    "        business_status.append(np.NaN)\n",
    "        formatted_address.append(np.NaN)\n",
    "        name.append(np.NaN)\n",
    "        place_id.append(np.NaN)\n"
   ]
  },
  {
   "cell_type": "code",
   "execution_count": null,
   "metadata": {},
   "outputs": [],
   "source": []
  },
  {
   "cell_type": "code",
   "execution_count": null,
   "metadata": {},
   "outputs": [],
   "source": [
    "def gmaps_dataframe(list_of_restaurants, fields, gmaps_obj):\n",
    "    dct = {}\n",
    "    for i in list_of_restaurants:\n",
    "        dct.update({i : gmaps.find_place(i + ' NYC', input_type='textquery', fields = fields)})\n",
    "    for i in fields:\n",
    "        i = []\n",
    "    "
   ]
  },
  {
   "cell_type": "code",
   "execution_count": 321,
   "metadata": {},
   "outputs": [
    {
     "output_type": "stream",
     "name": "stdout",
     "text": [
      "<class 'pandas.core.frame.DataFrame'>\nIndex: 422 entries, 2021-03-08T18:31:52+0000 to 2012-03-27T21:06:49+0000\nData columns (total 3 columns):\nurls           422 non-null object\nrestaurants    422 non-null object\nstars          422 non-null int64\ndtypes: int64(1), object(2)\nmemory usage: 33.2+ KB\n"
     ]
    }
   ],
   "source": []
  },
  {
   "cell_type": "code",
   "execution_count": 334,
   "metadata": {},
   "outputs": [],
   "source": [
    "df1 = pd.DataFrame({'status': business_status, 'address':formatted_address, 'restaurants':df1_name, 'place_id': place_id, 'name' :name})"
   ]
  },
  {
   "cell_type": "code",
   "execution_count": 368,
   "metadata": {},
   "outputs": [],
   "source": [
    "maindf = df.reset_index().merge(df1, how = 'left', on= 'restaurants').set_index('index')"
   ]
  },
  {
   "cell_type": "code",
   "execution_count": 370,
   "metadata": {},
   "outputs": [],
   "source": [
    "maindf.to_csv('merged.csv')"
   ]
  },
  {
   "cell_type": "code",
   "execution_count": 369,
   "metadata": {},
   "outputs": [
    {
     "output_type": "execute_result",
     "data": {
      "text/plain": [
       "                                                                       urls  \\\n",
       "index                                                                         \n",
       "2021-03-08T18:31:52+0000  https://www.nytimes.com/2021/03/08/dining/whea...   \n",
       "2021-03-01T18:03:31+0000  https://www.nytimes.com/2021/03/01/dining/winn...   \n",
       "2021-02-12T18:36:55+0000  https://www.nytimes.com/2021/02/12/dining/fala...   \n",
       "2020-12-01T17:44:20+0000  https://www.nytimes.com/2020/12/01/dining/ayat...   \n",
       "2020-11-23T18:00:37+0000  https://www.nytimes.com/2020/11/23/dining/bila...   \n",
       "\n",
       "                                               restaurants  stars  \\\n",
       "index                                                               \n",
       "2021-03-08T18:31:52+0000  wheated pizza washington squares      0   \n",
       "2021-03-01T18:03:31+0000                           winner       0   \n",
       "2021-02-12T18:36:55+0000          falansai vietnamese food      0   \n",
       "2020-12-01T17:44:20+0000             ayat palestinian food      0   \n",
       "2020-11-23T18:00:37+0000                             bilao      0   \n",
       "\n",
       "                               status  \\\n",
       "index                                   \n",
       "2021-03-08T18:31:52+0000  OPERATIONAL   \n",
       "2021-03-01T18:03:31+0000  OPERATIONAL   \n",
       "2021-02-12T18:36:55+0000  OPERATIONAL   \n",
       "2020-12-01T17:44:20+0000  OPERATIONAL   \n",
       "2020-11-23T18:00:37+0000  OPERATIONAL   \n",
       "\n",
       "                                                                    address  \\\n",
       "index                                                                         \n",
       "2021-03-08T18:31:52+0000  905 Church Ave, Brooklyn, NY 11218, United States   \n",
       "2021-03-01T18:03:31+0000     367 7th Ave, Brooklyn, NY 11215, United States   \n",
       "2021-02-12T18:36:55+0000  112 Harrison Pl, Brooklyn, NY 11237, United St...   \n",
       "2020-12-01T17:44:20+0000    8504 3rd Ave, Brooklyn, NY 11209, United States   \n",
       "2020-11-23T18:00:37+0000  1437 1st Avenue Store 1, New York, NY 10021, U...   \n",
       "\n",
       "                                             place_id      name  \n",
       "index                                                            \n",
       "2021-03-08T18:31:52+0000  ChIJIYCk0DpbwokRZaTcJmohk1Y   Wheated  \n",
       "2021-03-01T18:03:31+0000  ChIJg8UZJyNbwokR0-LkfR8MPJQ    WINNER  \n",
       "2021-02-12T18:36:55+0000  ChIJc11gFQJcwokRcOejfRbBPpo  Falansai  \n",
       "2020-12-01T17:44:20+0000  ChIJBSKRV89PwokRcofsyKk26CM      Ayat  \n",
       "2020-11-23T18:00:37+0000  ChIJierqy1ZZwokR9eCcG1n0hXU     BILAO  "
      ],
      "text/html": "<div>\n<style scoped>\n    .dataframe tbody tr th:only-of-type {\n        vertical-align: middle;\n    }\n\n    .dataframe tbody tr th {\n        vertical-align: top;\n    }\n\n    .dataframe thead th {\n        text-align: right;\n    }\n</style>\n<table border=\"1\" class=\"dataframe\">\n  <thead>\n    <tr style=\"text-align: right;\">\n      <th></th>\n      <th>urls</th>\n      <th>restaurants</th>\n      <th>stars</th>\n      <th>status</th>\n      <th>address</th>\n      <th>place_id</th>\n      <th>name</th>\n    </tr>\n    <tr>\n      <th>index</th>\n      <th></th>\n      <th></th>\n      <th></th>\n      <th></th>\n      <th></th>\n      <th></th>\n      <th></th>\n    </tr>\n  </thead>\n  <tbody>\n    <tr>\n      <th>2021-03-08T18:31:52+0000</th>\n      <td>https://www.nytimes.com/2021/03/08/dining/whea...</td>\n      <td>wheated pizza washington squares</td>\n      <td>0</td>\n      <td>OPERATIONAL</td>\n      <td>905 Church Ave, Brooklyn, NY 11218, United States</td>\n      <td>ChIJIYCk0DpbwokRZaTcJmohk1Y</td>\n      <td>Wheated</td>\n    </tr>\n    <tr>\n      <th>2021-03-01T18:03:31+0000</th>\n      <td>https://www.nytimes.com/2021/03/01/dining/winn...</td>\n      <td>winner</td>\n      <td>0</td>\n      <td>OPERATIONAL</td>\n      <td>367 7th Ave, Brooklyn, NY 11215, United States</td>\n      <td>ChIJg8UZJyNbwokR0-LkfR8MPJQ</td>\n      <td>WINNER</td>\n    </tr>\n    <tr>\n      <th>2021-02-12T18:36:55+0000</th>\n      <td>https://www.nytimes.com/2021/02/12/dining/fala...</td>\n      <td>falansai vietnamese food</td>\n      <td>0</td>\n      <td>OPERATIONAL</td>\n      <td>112 Harrison Pl, Brooklyn, NY 11237, United St...</td>\n      <td>ChIJc11gFQJcwokRcOejfRbBPpo</td>\n      <td>Falansai</td>\n    </tr>\n    <tr>\n      <th>2020-12-01T17:44:20+0000</th>\n      <td>https://www.nytimes.com/2020/12/01/dining/ayat...</td>\n      <td>ayat palestinian food</td>\n      <td>0</td>\n      <td>OPERATIONAL</td>\n      <td>8504 3rd Ave, Brooklyn, NY 11209, United States</td>\n      <td>ChIJBSKRV89PwokRcofsyKk26CM</td>\n      <td>Ayat</td>\n    </tr>\n    <tr>\n      <th>2020-11-23T18:00:37+0000</th>\n      <td>https://www.nytimes.com/2020/11/23/dining/bila...</td>\n      <td>bilao</td>\n      <td>0</td>\n      <td>OPERATIONAL</td>\n      <td>1437 1st Avenue Store 1, New York, NY 10021, U...</td>\n      <td>ChIJierqy1ZZwokR9eCcG1n0hXU</td>\n      <td>BILAO</td>\n    </tr>\n  </tbody>\n</table>\n</div>"
     },
     "metadata": {},
     "execution_count": 369
    }
   ],
   "source": [
    "maindf.head()"
   ]
  },
  {
   "cell_type": "code",
   "execution_count": 348,
   "metadata": {},
   "outputs": [],
   "source": [
    "maindf.dropna(inplace = True)"
   ]
  },
  {
   "cell_type": "code",
   "execution_count": 339,
   "metadata": {},
   "outputs": [],
   "source": [
    "import matplotlib.pyplot as plt\n",
    "import seaborn as sns"
   ]
  },
  {
   "cell_type": "code",
   "execution_count": 349,
   "metadata": {},
   "outputs": [
    {
     "output_type": "execute_result",
     "data": {
      "text/plain": [
       "2    156\n",
       "0    100\n",
       "1     94\n",
       "3     43\n",
       "4      2\n",
       "Name: stars, dtype: int64"
      ]
     },
     "metadata": {},
     "execution_count": 349
    }
   ],
   "source": [
    "maindf.stars.value_counts()"
   ]
  },
  {
   "cell_type": "code",
   "execution_count": 350,
   "metadata": {},
   "outputs": [
    {
     "output_type": "execute_result",
     "data": {
      "text/plain": [
       "OPERATIONAL           246\n",
       "CLOSED_PERMANENTLY     95\n",
       "CLOSED_TEMPORARILY     54\n",
       "Name: status, dtype: int64"
      ]
     },
     "metadata": {},
     "execution_count": 350
    }
   ],
   "source": [
    "maindf.status.value_counts()"
   ]
  },
  {
   "cell_type": "code",
   "execution_count": null,
   "metadata": {},
   "outputs": [],
   "source": []
  }
 ]
}