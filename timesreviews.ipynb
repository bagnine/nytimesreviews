{
 "metadata": {
  "language_info": {
   "codemirror_mode": {
    "name": "ipython",
    "version": 3
   },
   "file_extension": ".py",
   "mimetype": "text/x-python",
   "name": "python",
   "nbconvert_exporter": "python",
   "pygments_lexer": "ipython3",
   "version": "3.6.9-final"
  },
  "orig_nbformat": 2,
  "kernelspec": {
   "name": "python3",
   "display_name": "Python 3.6.9 64-bit ('learn-env': conda)",
   "metadata": {
    "interpreter": {
     "hash": "9b546e02e2ae7bc31ff393e72c59458abdd61657dbde44a42856f782e397745f"
    }
   }
  }
 },
 "nbformat": 4,
 "nbformat_minor": 2,
 "cells": [
  {
   "cell_type": "code",
   "execution_count": 2,
   "metadata": {},
   "outputs": [],
   "source": [
    "import json\n",
    "import numpy as np\n",
    "import pandas as pd\n",
    "import requests"
   ]
  },
  {
   "cell_type": "code",
   "execution_count": 3,
   "metadata": {},
   "outputs": [],
   "source": [
    "key = open('APIkeys.txt', 'r')"
   ]
  },
  {
   "cell_type": "code",
   "execution_count": 4,
   "metadata": {},
   "outputs": [],
   "source": [
    "keys = list(key)"
   ]
  },
  {
   "cell_type": "code",
   "execution_count": 5,
   "metadata": {},
   "outputs": [],
   "source": [
    "api_key = keys[0].split()[2]"
   ]
  },
  {
   "cell_type": "code",
   "execution_count": 37,
   "metadata": {},
   "outputs": [],
   "source": [
    "url = f'https://api.nytimes.com/svc/search/v2/articlesearch.json?q=Pete Wells&fq=news_desk:(Dining) AND type_of_material:(Review)&page={page}&api-key={api_key}'\n",
    "\n"
   ]
  },
  {
   "cell_type": "code",
   "execution_count": 38,
   "metadata": {},
   "outputs": [],
   "source": [
    "r = requests.get(url)"
   ]
  },
  {
   "cell_type": "code",
   "execution_count": 39,
   "metadata": {},
   "outputs": [],
   "source": [
    "json_data = r.json()"
   ]
  },
  {
   "cell_type": "code",
   "execution_count": 55,
   "metadata": {},
   "outputs": [
    {
     "output_type": "execute_result",
     "data": {
      "text/plain": [
       "'https://www.nytimes.com/2012/02/22/dining/reviews/allswell-nyc-restaurant-review.html'"
      ]
     },
     "metadata": {},
     "execution_count": 55
    }
   ],
   "source": [
    "r.json()['response']['docs'][4]['web_url']"
   ]
  },
  {
   "cell_type": "code",
   "execution_count": 44,
   "metadata": {},
   "outputs": [],
   "source": [
    "def query_nytimes(api_key, n_page, news_desk = 'Dining', news_type = 'Review', query = 'Pete Wells'):\n",
    "    url = f'https://api.nytimes.com/svc/search/v2/articlesearch.json?q={query}&fq=news_desk:{news_desk} AND type_of_material:{news_type}&page={n_page}&api-key={api_key}'\n",
    "    r = requests.get(url)\n",
    "    json_data = r.json()\n",
    "    return r.json()['response']['docs']"
   ]
  },
  {
   "cell_type": "code",
   "execution_count": 46,
   "metadata": {},
   "outputs": [],
   "source": [
    "# query_nytimes(api_key, 1)"
   ]
  },
  {
   "cell_type": "code",
   "execution_count": null,
   "metadata": {},
   "outputs": [],
   "source": [
    "query constructor- **kwargs w/ all values set to None except query and api_key\n",
    "base url = (base url)\n",
    "if/elif/else\n",
    "base url += news desk, query, section, date range, etc etc"
   ]
  },
  {
   "cell_type": "code",
   "execution_count": 95,
   "metadata": {},
   "outputs": [
    {
     "output_type": "execute_result",
     "data": {
      "text/plain": [
       "{'fault': {'faultstring': 'Failed to resolve API Key variable request.queryparam.api-key',\n",
       "  'detail': {'errorcode': 'steps.oauth.v2.FailedToResolveAPIKey'}}}"
      ]
     },
     "metadata": {},
     "execution_count": 95
    }
   ],
   "source": [
    "nytimes_query(api_key, 'Pete Wells')"
   ]
  },
  {
   "cell_type": "code",
   "execution_count": 93,
   "metadata": {},
   "outputs": [],
   "source": [
    "def nytimes_query(api_key, query, \n",
    "                  glocations = None, headline = None, news_desk = None, \n",
    "                  organizations = None, persons = None, subject = None,\n",
    "                  news_type = None, type_of_material = None, \n",
    "                  begin_date = None, end_date = None, n_page = 1):\n",
    "    ''''''\n",
    "    base_url = f'https://api.nytimes.com/svc/search/v2/articlesearch.json?q={query}'             \n",
    "    filter_queries = {}\n",
    "    dates = {}\n",
    "\n",
    "    if glocations:\n",
    "        filter_queries.update({'glocations': glocations})\n",
    "    if headline:\n",
    "        filter_queries.update({'headline': headline})\n",
    "    if news_desk:\n",
    "        filter_queries.update({'news_desk': news_desk})\n",
    "    if organizations:\n",
    "        filter_queries.update({'organizations': organizations})\n",
    "    if persons:\n",
    "        filter_queries.update({'persons': persons})\n",
    "    if subject:\n",
    "        filter_queries.update({'subject': subject})\n",
    "    if news_type:\n",
    "        filter_queries.update({'news_type': news_type})\n",
    "    if type_of_material:\n",
    "        filter_queries.update({'type_of_material': type_of_material})\n",
    "    \n",
    "    if begin_date:\n",
    "        dates.update({'begin_date': begin_date})\n",
    "    if end_date:\n",
    "        dates.update({'end_date':end_date})\n",
    "\n",
    "    if len(filter_queries) == 0 and len(dates) == 0:\n",
    "        base_url += f'&api-key={api_key}'\n",
    "        r = requests.get(base_url)\n",
    "        json_data = r.json()\n",
    "        return r.json()['response']['docs']\n",
    "    \n",
    "    elif len(filter_queries) == 1:\n",
    "        base_url += f'&fq=({list(filter_queries.keys())[0]}):{list(filter_queries.values())[0]}'\n",
    "        if len(dates) == 1:\n",
    "            base_url += f'&{list(filter_queries.keys())[0]}={list(filter_queries.values())[0]}&'\n",
    "        elif len(dates) == 2:\n",
    "            base_url += '&'\n",
    "            for i in dates.keys():\n",
    "                base_url += f'{i}={dates[i]}&'\n",
    "\n",
    "        base_url += f'api-key={api_key}'\n",
    "        r = requests.get(base_url)\n",
    "        json_data = r.json()\n",
    "        return r.json()['response']['docs']\n",
    "\n",
    "    elif  len(filter_queries) > 1:\n",
    "        for i in filter_queries.keys():\n",
    "            base_url += f'&fq=({i}):{filter_queries[i]} AND'\n",
    "        base_url = base_url[:-4]\n",
    "        if len(dates) == 1:\n",
    "            base_url += f'&{list(filter_queries.keys())[0]}={list(filter_queries.values())[0]}&'\n",
    "        elif len(dates) == 2:\n",
    "            base_url += '&'\n",
    "            for i in dates.keys():\n",
    "                base_url += f'{i}={dates[i]}&'\n",
    "\n",
    "        base_url += f'api-key={api_key}'\n",
    "        r = requests.get(base_url)\n",
    "        json_data = r.json()\n",
    "        return r.json()['response']['docs']\n",
    "\n",
    "\n",
    "    else:\n",
    "        r = requests.get(base_url)\n",
    "        json_data = r.json()\n",
    "        return r.json()['response']['docs']\n"
   ]
  },
  {
   "cell_type": "code",
   "execution_count": 87,
   "metadata": {},
   "outputs": [],
   "source": [
    "# nytimes_query(api_key, 'Pete Wells', news_desk = 'Dining', news_type = 'Review')"
   ]
  },
  {
   "cell_type": "code",
   "execution_count": 75,
   "metadata": {},
   "outputs": [],
   "source": [
    "d = {'begin_date' : '20201201', 'end_date': '20210131'}"
   ]
  },
  {
   "cell_type": "code",
   "execution_count": 79,
   "metadata": {},
   "outputs": [
    {
     "output_type": "stream",
     "name": "stdout",
     "text": [
      "20201201\n20210131\n"
     ]
    }
   ],
   "source": [
    "for i in d.keys():\n",
    "    print(d[i])"
   ]
  },
  {
   "cell_type": "code",
   "execution_count": 80,
   "metadata": {},
   "outputs": [],
   "source": [
    "strng = 'I want to buy a guava AND a banana AND a pear AND'"
   ]
  },
  {
   "cell_type": "code",
   "execution_count": 85,
   "metadata": {},
   "outputs": [
    {
     "output_type": "execute_result",
     "data": {
      "text/plain": [
       "'I want to buy a guava AND a banana AND a pear'"
      ]
     },
     "metadata": {},
     "execution_count": 85
    }
   ],
   "source": [
    "strng[:-4]"
   ]
  },
  {
   "cell_type": "code",
   "execution_count": 96,
   "metadata": {},
   "outputs": [
    {
     "output_type": "execute_result",
     "data": {
      "text/plain": [
       "'&fq=(begin_date):20201201'"
      ]
     },
     "metadata": {},
     "execution_count": 96
    }
   ],
   "source": [
    "f'&fq=({list(d.keys())[0]}):{list(d.values())[0]}'"
   ]
  },
  {
   "cell_type": "code",
   "execution_count": null,
   "metadata": {},
   "outputs": [],
   "source": []
  }
 ]
}