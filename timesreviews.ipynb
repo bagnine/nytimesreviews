{
 "metadata": {
  "language_info": {
   "codemirror_mode": {
    "name": "ipython",
    "version": 3
   },
   "file_extension": ".py",
   "mimetype": "text/x-python",
   "name": "python",
   "nbconvert_exporter": "python",
   "pygments_lexer": "ipython3",
   "version": "3.6.9-final"
  },
  "orig_nbformat": 2,
  "kernelspec": {
   "name": "python3",
   "display_name": "Python 3.6.9 64-bit ('learn-env': conda)",
   "metadata": {
    "interpreter": {
     "hash": "9b546e02e2ae7bc31ff393e72c59458abdd61657dbde44a42856f782e397745f"
    }
   }
  }
 },
 "nbformat": 4,
 "nbformat_minor": 2,
 "cells": [
  {
   "cell_type": "code",
   "execution_count": 1,
   "metadata": {},
   "outputs": [],
   "source": [
    "import json\n",
    "import numpy as np\n",
    "import pandas as pd\n",
    "import requests\n",
    "import time"
   ]
  },
  {
   "cell_type": "code",
   "execution_count": 2,
   "metadata": {},
   "outputs": [],
   "source": [
    "from bs4 import BeautifulSoup"
   ]
  },
  {
   "cell_type": "code",
   "execution_count": 34,
   "metadata": {},
   "outputs": [],
   "source": [
    "key = open('APIkeys.txt', 'r')\n",
    "goog_key = open('google_places_api_key.txt', 'r')"
   ]
  },
  {
   "cell_type": "code",
   "execution_count": 35,
   "metadata": {},
   "outputs": [],
   "source": [
    "keys = list(key)"
   ]
  },
  {
   "cell_type": "code",
   "execution_count": 36,
   "metadata": {},
   "outputs": [],
   "source": [
    "api_key = keys[0].split()[2]\n",
    "goog_api_key = list(goog_key)[0][11:-1]"
   ]
  },
  {
   "cell_type": "code",
   "execution_count": 188,
   "metadata": {},
   "outputs": [
    {
     "output_type": "execute_result",
     "data": {
      "text/plain": [
       "'https://www.nytimes.com/2012/05/09/dining/reviews/frej-brooklyn-restaurant-review.html'"
      ]
     },
     "metadata": {},
     "execution_count": 188
    }
   ],
   "source": [
    "nytimes_query(api_key, 'Pete Wells', news_desk = 'Dining', type_of_material = 'Review', n_page = 2)[0]['web_url']"
   ]
  },
  {
   "cell_type": "code",
   "execution_count": 5,
   "metadata": {},
   "outputs": [],
   "source": [
    "def nytimes_query(api_key, query, \n",
    "                  glocations = None, headline = None, news_desk = None, \n",
    "                  organizations = None, persons = None, byline = None, \n",
    "                  subject = None, news_type = None, type_of_material = None, \n",
    "                  begin_date = None, end_date = None, n_page = 0):\n",
    "    '''\n",
    "    Perform a query from the NYTimes API and return a JSON of results\n",
    "    ----\n",
    "    Arguments:\n",
    "    api-key -- a user-specific key registered at developer.nytimes.com\n",
    "    query -- the search terms used for the query\n",
    "    \n",
    "    filters:\n",
    "        each of the following categories is set at None by default. If values are added, the\n",
    "        queries will be filtered based on the parameter\n",
    "\n",
    "        glocations -- geographic locations\n",
    "        headline -- literal headline\n",
    "        news_desk -- by news desk using the following values:\n",
    "            Adventure Sports\n",
    "            Arts & Leisure\n",
    "            Arts\n",
    "            Automobiles\n",
    "            Blogs\n",
    "            Books\n",
    "            Booming\n",
    "            Business Day\n",
    "            Business\n",
    "            Cars\n",
    "            Circuits\n",
    "            Classifieds\n",
    "            Connecticut\n",
    "            Crosswords & Games\n",
    "            Culture\n",
    "            DealBook\n",
    "            Dining\n",
    "            Editorial\n",
    "            Education\n",
    "            Energy\n",
    "            Entrepreneurs\n",
    "            Environment\n",
    "            Escapes\n",
    "            Fashion & Style\n",
    "            Fashion\n",
    "            Favorites\n",
    "            Financial\n",
    "            Flight\n",
    "            Food\n",
    "            Foreign\n",
    "            Generations\n",
    "            Giving\n",
    "            Global Home\n",
    "            Health & Fitness\n",
    "            Health\n",
    "            Home & Garden\n",
    "            Home\n",
    "            Jobs\n",
    "            Key\n",
    "            Letters\n",
    "            Long Island\n",
    "            Magazine\n",
    "            Market Place\n",
    "            Media\n",
    "            Men's Health\n",
    "            Metro\n",
    "            Metropolitan\n",
    "            Movies\n",
    "            Museums\n",
    "            National\n",
    "            Nesting\n",
    "            Obits\n",
    "            Obituaries\n",
    "            Obituary\n",
    "            OpEd\n",
    "            Opinion\n",
    "            Outlook\n",
    "            Personal Investing\n",
    "            Personal Tech\n",
    "            Play\n",
    "            Politics\n",
    "            Regionals\n",
    "            Retail\n",
    "            Retirement\n",
    "            Science\n",
    "            Small Business\n",
    "            Society\n",
    "            Sports\n",
    "            Style\n",
    "            Sunday Business\n",
    "            Sunday Review\n",
    "            Sunday Styles\n",
    "            T Magazine\n",
    "            T Style\n",
    "            Technology\n",
    "            Teens\n",
    "            Television\n",
    "            The Arts\n",
    "            The Business of Green\n",
    "            The City Desk\n",
    "            The City\n",
    "            The Marathon\n",
    "            The Millennium\n",
    "            The Natural World\n",
    "            The Upshot\n",
    "            The Weekend\n",
    "            The Year in Pictures\n",
    "            Theater\n",
    "            Then & Now\n",
    "            Thursday Styles\n",
    "            Times Topics\n",
    "            Travel\n",
    "            U.S.\n",
    "            Universal\n",
    "            Upshot\n",
    "            UrbanEye\n",
    "            Vacation\n",
    "            Washington\n",
    "            Wealth\n",
    "            Weather\n",
    "            Week in Review\n",
    "            Week\n",
    "            Weekend\n",
    "            Westchester\n",
    "            Wireless Living\n",
    "            Women's Health\n",
    "            Working\n",
    "            Workplace\n",
    "            World\n",
    "            Your Money\n",
    "        organizations \n",
    "        persons -- filter by persons referenced\n",
    "        byline -- filter by writer or several other parameters- see developer.nytimes.com\n",
    "        subject -- by subject\n",
    "        type_of_material -- document type- sample values below:\n",
    "            Addendum\n",
    "            An Analysis\n",
    "            An Appraisal\n",
    "            Archives\n",
    "            Article\n",
    "            Banner\n",
    "            Biography\n",
    "            Birth Notice\n",
    "            Blog\n",
    "            Brief\n",
    "            Caption\n",
    "            Chronology\n",
    "            Column\n",
    "            Correction\n",
    "            Economic Analysis\n",
    "            Editorial\n",
    "            Editorial Cartoon\n",
    "            Editors' Note\n",
    "            First Chapter\n",
    "            Front Page\n",
    "            Glossary\n",
    "            Interactive Feature\n",
    "            Interactive Graphic\n",
    "            Interview\n",
    "            Letter\n",
    "            List\n",
    "            Marriage Announcement\n",
    "            Military Analysis\n",
    "            News\n",
    "            News Analysis\n",
    "            Newsletter\n",
    "            Obituary\n",
    "            Obituary (Obit)\n",
    "            Op-Ed\n",
    "            Paid Death Notice\n",
    "            Postscript\n",
    "            Premium\n",
    "            Question\n",
    "            Quote\n",
    "            Recipe\n",
    "            Review\n",
    "            Schedule\n",
    "            SectionFront\n",
    "            Series\n",
    "            Slideshow\n",
    "            Special Report\n",
    "            Statistics\n",
    "            Summary\n",
    "            Text\n",
    "            Video\n",
    "            Web Log\n",
    "\n",
    "    date params:\n",
    "        begin_date -- beginning date of filter \n",
    "        end_date -- end date of filter\n",
    "    n_page -- the selected page of returns- for large queries this will select sections to return\n",
    "    '''\n",
    "    # Set the base url for the query\n",
    "    base_url = f'https://api.nytimes.com/svc/search/v2/articlesearch.json?q={query}'             \n",
    "    # Empty dictionary for filters\n",
    "    filter_queries = {}\n",
    "    # empty dictionary for dates\n",
    "    dates = {}\n",
    "\n",
    "    # Populate the filter dictionary\n",
    "    if glocations:\n",
    "        filter_queries.update({'glocations': glocations})\n",
    "    if headline:\n",
    "        filter_queries.update({'headline': headline})\n",
    "    if news_desk:\n",
    "        filter_queries.update({'news_desk': news_desk})\n",
    "    if organizations:\n",
    "        filter_queries.update({'organizations': organizations})\n",
    "    if persons:\n",
    "        filter_queries.update({'persons': persons})\n",
    "    if subject:\n",
    "        filter_queries.update({'subject': subject})\n",
    "    if byline:\n",
    "        filter_queries.update({'byline': byline})\n",
    "    if news_type:\n",
    "        filter_queries.update({'news_type': news_type})\n",
    "    if type_of_material:\n",
    "        filter_queries.update({'type_of_material': type_of_material})\n",
    "    \n",
    "    # Populate the date dictionary\n",
    "    if begin_date:\n",
    "        dates.update({'begin_date': begin_date})\n",
    "    if end_date:\n",
    "        dates.update({'end_date':end_date})\n",
    "    \n",
    "    # If 1 filter is present, and/or date params, add to URL and execute query\n",
    "    if len(filter_queries) == 1:\n",
    "        base_url += f'&fq={list(filter_queries.keys())[0]}:({list(filter_queries.values())[0]})'\n",
    "        if len(dates) == 1:\n",
    "            base_url += f'&{list(filter_queries.keys())[0]}={list(filter_queries.values())[0]}&'\n",
    "        elif len(dates) == 2:\n",
    "            base_url += '&'\n",
    "            for i in dates.keys():\n",
    "                base_url += f'{i}={dates[i]}&'\n",
    "\n",
    "    # If 2 or more filters are present, concatenate with AND, add dates if present and execute\n",
    "    elif  len(filter_queries) > 1:\n",
    "        base_url += '&fq='\n",
    "        for i in filter_queries.keys():\n",
    "            base_url += f'{i}:({filter_queries[i]}) AND '\n",
    "        base_url = base_url[:-5]\n",
    "        if len(dates) == 1:\n",
    "            base_url += f'&{list(filter_queries.keys())[0]}={list(filter_queries.values())[0]}&'\n",
    "        elif len(dates) == 2:\n",
    "            base_url += '&'\n",
    "            for i in dates.keys():\n",
    "                base_url += f'{i}={dates[i]}&'\n",
    "\n",
    "    # concatenate page number and api key and make the request. \n",
    "    # Returns a truncated JSON indexed past the metadata\n",
    "    base_url += f'&page={n_page}'\n",
    "    base_url += f'&api-key={api_key}'\n",
    "    r = requests.get(base_url)\n",
    "    json_data = r.json()\n",
    "    return r.json()['response']['docs']"
   ]
  },
  {
   "cell_type": "code",
   "execution_count": 92,
   "metadata": {},
   "outputs": [],
   "source": [
    "def review_url_names(api_key, query, n_pages_min, n_pages_max, **kwargs):\n",
    "    urls = []\n",
    "    names = []\n",
    "    dates = []\n",
    "    for i in range(n_pages_min, n_pages_max):\n",
    "        qref = nytimes_query(api_key, query, n_page = i, **kwargs)\n",
    "        names += [j['web_url'].split('dining/')[1][:-5].replace('-', ' ').replace('reviews/', '') for j in qref]\n",
    "        urls += [k['web_url'] for k in qref]\n",
    "        dates += [m['pub_date'] for m in qref]\n",
    "        time.sleep(6)\n",
    "    return urls, names, dates"
   ]
  },
  {
   "cell_type": "code",
   "execution_count": 93,
   "metadata": {},
   "outputs": [],
   "source": [
    "urls, restaurants_100, dates = review_url_names(api_key, 'Pete Wells', news_desk = 'Dining', type_of_material = 'Review', n_pages_min = 0, n_pages_max = 40)"
   ]
  },
  {
   "cell_type": "code",
   "execution_count": 79,
   "metadata": {},
   "outputs": [],
   "source": [
    "# attempting to iterate through kwargs in order to shorten the if statements in the main function\n",
    "\n",
    "def test_function(glocations = None, headline = None, news_desk = None, \n",
    "                  organizations = None, persons = None, byline = None, \n",
    "                  subject = None, news_type = None, type_of_material = None, \n",
    "                  begin_date = None, end_date = None):\n",
    "    for i in [glocations, headline, news_desk, \n",
    "              organizations, persons, byline, \n",
    "              subject, news_type, type_of_material]:\n",
    "        if i:\n",
    "            print(i)\n"
   ]
  },
  {
   "cell_type": "code",
   "execution_count": null,
   "metadata": {},
   "outputs": [],
   "source": [
    "Re run function with glocation set to new york city? Filter out national reviews, 29 and under and briefs. Critic's notebook?\n",
    "\n",
    "Try using Google Maps API or webscraping to see if restaurants are closed"
   ]
  },
  {
   "cell_type": "code",
   "execution_count": 99,
   "metadata": {},
   "outputs": [],
   "source": [
    "df = pd.DataFrame(index = dates)"
   ]
  },
  {
   "cell_type": "code",
   "execution_count": 100,
   "metadata": {},
   "outputs": [],
   "source": [
    "df['urls'] = urls"
   ]
  },
  {
   "cell_type": "code",
   "execution_count": 102,
   "metadata": {},
   "outputs": [],
   "source": [
    "df['restaurants'] = restaurants_100"
   ]
  },
  {
   "cell_type": "code",
   "execution_count": 103,
   "metadata": {},
   "outputs": [
    {
     "output_type": "execute_result",
     "data": {
      "text/plain": [
       "                                                                       urls  \\\n",
       "2021-03-01T18:03:31+0000  https://www.nytimes.com/2021/03/01/dining/winn...   \n",
       "2021-02-12T18:36:55+0000  https://www.nytimes.com/2021/02/12/dining/fala...   \n",
       "2020-12-01T17:44:20+0000  https://www.nytimes.com/2020/12/01/dining/ayat...   \n",
       "2020-11-23T18:00:37+0000  https://www.nytimes.com/2020/11/23/dining/bila...   \n",
       "2020-11-10T17:12:25+0000  https://www.nytimes.com/2020/11/10/dining/silv...   \n",
       "\n",
       "                                              restaurants  \n",
       "2021-03-01T18:03:31+0000         winner restaurant review  \n",
       "2021-02-12T18:36:55+0000  falansai review vietnamese food  \n",
       "2020-12-01T17:44:20+0000     ayat review palestinian food  \n",
       "2020-11-23T18:00:37+0000                     bilao review  \n",
       "2020-11-10T17:12:25+0000            silver apricot review  "
      ],
      "text/html": "<div>\n<style scoped>\n    .dataframe tbody tr th:only-of-type {\n        vertical-align: middle;\n    }\n\n    .dataframe tbody tr th {\n        vertical-align: top;\n    }\n\n    .dataframe thead th {\n        text-align: right;\n    }\n</style>\n<table border=\"1\" class=\"dataframe\">\n  <thead>\n    <tr style=\"text-align: right;\">\n      <th></th>\n      <th>urls</th>\n      <th>restaurants</th>\n    </tr>\n  </thead>\n  <tbody>\n    <tr>\n      <th>2021-03-01T18:03:31+0000</th>\n      <td>https://www.nytimes.com/2021/03/01/dining/winn...</td>\n      <td>winner restaurant review</td>\n    </tr>\n    <tr>\n      <th>2021-02-12T18:36:55+0000</th>\n      <td>https://www.nytimes.com/2021/02/12/dining/fala...</td>\n      <td>falansai review vietnamese food</td>\n    </tr>\n    <tr>\n      <th>2020-12-01T17:44:20+0000</th>\n      <td>https://www.nytimes.com/2020/12/01/dining/ayat...</td>\n      <td>ayat review palestinian food</td>\n    </tr>\n    <tr>\n      <th>2020-11-23T18:00:37+0000</th>\n      <td>https://www.nytimes.com/2020/11/23/dining/bila...</td>\n      <td>bilao review</td>\n    </tr>\n    <tr>\n      <th>2020-11-10T17:12:25+0000</th>\n      <td>https://www.nytimes.com/2020/11/10/dining/silv...</td>\n      <td>silver apricot review</td>\n    </tr>\n  </tbody>\n</table>\n</div>"
     },
     "metadata": {},
     "execution_count": 103
    }
   ],
   "source": [
    "df.head()"
   ]
  },
  {
   "cell_type": "code",
   "execution_count": 112,
   "metadata": {},
   "outputs": [],
   "source": [
    "df['restaurants'] = df.restaurants.apply(lambda i: i.replace(' review', '').replace('pete wells', '').replace('restaurant', '').replace('on the lower east side', ''))"
   ]
  },
  {
   "cell_type": "code",
   "execution_count": 113,
   "metadata": {},
   "outputs": [
    {
     "output_type": "execute_result",
     "data": {
      "text/plain": [
       "                                                                       urls  \\\n",
       "2021-03-01T18:03:31+0000  https://www.nytimes.com/2021/03/01/dining/winn...   \n",
       "2021-02-12T18:36:55+0000  https://www.nytimes.com/2021/02/12/dining/fala...   \n",
       "2020-12-01T17:44:20+0000  https://www.nytimes.com/2020/12/01/dining/ayat...   \n",
       "2020-11-23T18:00:37+0000  https://www.nytimes.com/2020/11/23/dining/bila...   \n",
       "2020-11-10T17:12:25+0000  https://www.nytimes.com/2020/11/10/dining/silv...   \n",
       "\n",
       "                                       restaurants  \n",
       "2021-03-01T18:03:31+0000                   winner   \n",
       "2021-02-12T18:36:55+0000  falansai vietnamese food  \n",
       "2020-12-01T17:44:20+0000     ayat palestinian food  \n",
       "2020-11-23T18:00:37+0000                     bilao  \n",
       "2020-11-10T17:12:25+0000            silver apricot  "
      ],
      "text/html": "<div>\n<style scoped>\n    .dataframe tbody tr th:only-of-type {\n        vertical-align: middle;\n    }\n\n    .dataframe tbody tr th {\n        vertical-align: top;\n    }\n\n    .dataframe thead th {\n        text-align: right;\n    }\n</style>\n<table border=\"1\" class=\"dataframe\">\n  <thead>\n    <tr style=\"text-align: right;\">\n      <th></th>\n      <th>urls</th>\n      <th>restaurants</th>\n    </tr>\n  </thead>\n  <tbody>\n    <tr>\n      <th>2021-03-01T18:03:31+0000</th>\n      <td>https://www.nytimes.com/2021/03/01/dining/winn...</td>\n      <td>winner</td>\n    </tr>\n    <tr>\n      <th>2021-02-12T18:36:55+0000</th>\n      <td>https://www.nytimes.com/2021/02/12/dining/fala...</td>\n      <td>falansai vietnamese food</td>\n    </tr>\n    <tr>\n      <th>2020-12-01T17:44:20+0000</th>\n      <td>https://www.nytimes.com/2020/12/01/dining/ayat...</td>\n      <td>ayat palestinian food</td>\n    </tr>\n    <tr>\n      <th>2020-11-23T18:00:37+0000</th>\n      <td>https://www.nytimes.com/2020/11/23/dining/bila...</td>\n      <td>bilao</td>\n    </tr>\n    <tr>\n      <th>2020-11-10T17:12:25+0000</th>\n      <td>https://www.nytimes.com/2020/11/10/dining/silv...</td>\n      <td>silver apricot</td>\n    </tr>\n  </tbody>\n</table>\n</div>"
     },
     "metadata": {},
     "execution_count": 113
    }
   ],
   "source": [
    "df.head()"
   ]
  },
  {
   "cell_type": "code",
   "execution_count": 114,
   "metadata": {},
   "outputs": [
    {
     "output_type": "execute_result",
     "data": {
      "text/plain": [
       "                                                                       urls  \\\n",
       "2012-08-14T20:49:59+0000  https://www.nytimes.com/2012/08/15/dining/revi...   \n",
       "2012-07-10T20:22:27+0000  https://www.nytimes.com/2012/07/11/dining/revi...   \n",
       "2014-12-09T17:51:00+0000  https://www.nytimes.com/2014/12/10/dining/rest...   \n",
       "2014-08-26T18:39:02+0000  https://www.nytimes.com/2014/08/27/dining/rest...   \n",
       "2009-10-06T20:55:17+0000  https://www.nytimes.com/2009/10/07/dining/revi...   \n",
       "\n",
       "                                     restaurants  \n",
       "2012-08-14T20:49:59+0000              biang nyc   \n",
       "2012-07-10T20:22:27+0000  almayass in manhattan   \n",
       "2014-12-09T17:51:00+0000           dirty french   \n",
       "2014-08-26T18:39:02+0000       batard in tribeca  \n",
       "2009-10-06T20:55:17+0000                  07rest  "
      ],
      "text/html": "<div>\n<style scoped>\n    .dataframe tbody tr th:only-of-type {\n        vertical-align: middle;\n    }\n\n    .dataframe tbody tr th {\n        vertical-align: top;\n    }\n\n    .dataframe thead th {\n        text-align: right;\n    }\n</style>\n<table border=\"1\" class=\"dataframe\">\n  <thead>\n    <tr style=\"text-align: right;\">\n      <th></th>\n      <th>urls</th>\n      <th>restaurants</th>\n    </tr>\n  </thead>\n  <tbody>\n    <tr>\n      <th>2012-08-14T20:49:59+0000</th>\n      <td>https://www.nytimes.com/2012/08/15/dining/revi...</td>\n      <td>biang nyc</td>\n    </tr>\n    <tr>\n      <th>2012-07-10T20:22:27+0000</th>\n      <td>https://www.nytimes.com/2012/07/11/dining/revi...</td>\n      <td>almayass in manhattan</td>\n    </tr>\n    <tr>\n      <th>2014-12-09T17:51:00+0000</th>\n      <td>https://www.nytimes.com/2014/12/10/dining/rest...</td>\n      <td>dirty french</td>\n    </tr>\n    <tr>\n      <th>2014-08-26T18:39:02+0000</th>\n      <td>https://www.nytimes.com/2014/08/27/dining/rest...</td>\n      <td>batard in tribeca</td>\n    </tr>\n    <tr>\n      <th>2009-10-06T20:55:17+0000</th>\n      <td>https://www.nytimes.com/2009/10/07/dining/revi...</td>\n      <td>07rest</td>\n    </tr>\n  </tbody>\n</table>\n</div>"
     },
     "metadata": {},
     "execution_count": 114
    }
   ],
   "source": [
    "df.tail()"
   ]
  },
  {
   "cell_type": "code",
   "execution_count": 58,
   "metadata": {},
   "outputs": [],
   "source": [
    "df.to_csv('restaurants.csv')"
   ]
  },
  {
   "cell_type": "code",
   "execution_count": 4,
   "metadata": {},
   "outputs": [],
   "source": [
    "df = pd.read_csv('restaurants.csv')"
   ]
  },
  {
   "cell_type": "code",
   "execution_count": 18,
   "metadata": {},
   "outputs": [
    {
     "output_type": "execute_result",
     "data": {
      "text/plain": [
       "'https://www.nytimes.com/2012/03/07/dining/reviews/pok-pok-wing-on-the-lower-east-side.html'"
      ]
     },
     "metadata": {},
     "execution_count": 18
    }
   ],
   "source": [
    "df.urls[30]"
   ]
  },
  {
   "cell_type": "code",
   "execution_count": 19,
   "metadata": {},
   "outputs": [],
   "source": [
    "page = requests.get('https://www.nytimes.com/2019/03/05/dining/madame-vo-bbq-review.html')\n",
    "soup = BeautifulSoup(page.content, 'html.parser')\n",
    "l = soup.find(class_=\"css-z4hz5\")"
   ]
  },
  {
   "cell_type": "code",
   "execution_count": 21,
   "metadata": {},
   "outputs": [
    {
     "output_type": "execute_result",
     "data": {
      "text/plain": [
       "'★'"
      ]
     },
     "metadata": {},
     "execution_count": 21
    }
   ],
   "source": [
    "l.text"
   ]
  },
  {
   "cell_type": "code",
   "execution_count": 24,
   "metadata": {},
   "outputs": [],
   "source": [
    "stars = []\n",
    "for i in df.urls:\n",
    "    page = requests.get(i)\n",
    "    soup = BeautifulSoup(page.content, 'html.parser')\n",
    "    l = soup.find(class_=\"css-z4hz5\")\n",
    "    if l:\n",
    "        stars.append(l.text)\n",
    "    else:\n",
    "        stars.append(np.NaN)\n",
    "    "
   ]
  },
  {
   "cell_type": "code",
   "execution_count": 35,
   "metadata": {},
   "outputs": [],
   "source": [
    "df['stars'] = stars"
   ]
  },
  {
   "cell_type": "code",
   "execution_count": 49,
   "metadata": {},
   "outputs": [],
   "source": [
    "df['stars'] = df.stars.apply(lambda i: len(i) if type(i) == str else 0)"
   ]
  },
  {
   "cell_type": "code",
   "execution_count": 51,
   "metadata": {},
   "outputs": [
    {
     "output_type": "execute_result",
     "data": {
      "text/plain": [
       "                  Unnamed: 0  \\\n",
       "0   2021-03-01T18:03:31+0000   \n",
       "1   2021-02-12T18:36:55+0000   \n",
       "2   2020-12-01T17:44:20+0000   \n",
       "3   2020-11-23T18:00:37+0000   \n",
       "4   2020-11-10T17:12:25+0000   \n",
       "5   2020-10-27T16:30:08+0000   \n",
       "6   2020-10-20T16:13:52+0000   \n",
       "7   2020-10-06T15:54:22+0000   \n",
       "8   2020-09-21T19:30:55+0000   \n",
       "9   2019-10-29T14:55:49+0000   \n",
       "10  2017-01-24T17:00:49+0000   \n",
       "11  2015-09-22T16:26:35+0000   \n",
       "12  2019-03-19T16:30:43+0000   \n",
       "13  2010-09-21T21:24:42+0000   \n",
       "14  2016-12-13T19:07:21+0000   \n",
       "15  2010-02-17T00:37:47+0000   \n",
       "16  2018-09-11T15:21:08+0000   \n",
       "17  2015-06-09T16:03:49+0000   \n",
       "18  2008-11-04T22:46:58+0000   \n",
       "19  2010-03-16T22:34:16+0000   \n",
       "20  2010-06-22T22:56:23+0000   \n",
       "21  2012-05-08T23:42:36+0000   \n",
       "22  2008-12-31T00:48:32+0000   \n",
       "23  2011-01-19T00:01:12+0000   \n",
       "24  2013-11-14T22:26:03+0000   \n",
       "25  2012-02-21T23:58:30+0000   \n",
       "26  2016-05-24T15:45:29+0000   \n",
       "27  2018-09-18T16:13:02+0000   \n",
       "28  2012-01-11T00:22:48+0000   \n",
       "29  2009-09-29T22:54:28+0000   \n",
       "30  2012-03-06T23:11:51+0000   \n",
       "31  2015-08-11T16:00:23+0000   \n",
       "32  2015-07-14T15:28:23+0000   \n",
       "33  2016-10-18T15:34:06+0000   \n",
       "34  2011-11-08T18:53:22+0000   \n",
       "35  2016-01-12T16:18:59+0000   \n",
       "36  2016-06-21T15:01:37+0000   \n",
       "37  2016-09-06T12:03:06+0000   \n",
       "38  2015-08-04T17:26:21+0000   \n",
       "39  2019-12-03T16:57:12+0000   \n",
       "40  2016-02-09T16:19:44+0000   \n",
       "41  2009-06-16T23:50:11+0000   \n",
       "42  2016-04-12T16:04:45+0000   \n",
       "43  2016-02-02T16:45:59+0000   \n",
       "44  2014-05-13T17:58:31+0000   \n",
       "45  2010-08-31T23:16:51+0000   \n",
       "46  2013-09-17T21:11:59+0000   \n",
       "47  2018-12-31T18:34:57+0000   \n",
       "48  2014-01-28T22:00:25+0000   \n",
       "49  2017-12-19T17:26:29+0000   \n",
       "\n",
       "                                                 urls  \\\n",
       "0   https://www.nytimes.com/2021/03/01/dining/winn...   \n",
       "1   https://www.nytimes.com/2021/02/12/dining/fala...   \n",
       "2   https://www.nytimes.com/2020/12/01/dining/ayat...   \n",
       "3   https://www.nytimes.com/2020/11/23/dining/bila...   \n",
       "4   https://www.nytimes.com/2020/11/10/dining/silv...   \n",
       "5   https://www.nytimes.com/2020/10/27/dining/moky...   \n",
       "6   https://www.nytimes.com/2020/10/20/dining/pata...   \n",
       "7   https://www.nytimes.com/2020/10/06/dining/koko...   \n",
       "8   https://www.nytimes.com/2020/09/21/dining/rang...   \n",
       "9   https://www.nytimes.com/2019/10/29/dining/pete...   \n",
       "10  https://www.nytimes.com/2017/01/24/dining/fowl...   \n",
       "11  https://www.nytimes.com/2015/09/23/dining/rest...   \n",
       "12  https://www.nytimes.com/2019/03/19/dining/odo-...   \n",
       "13  https://www.nytimes.com/2010/09/22/dining/revi...   \n",
       "14  https://www.nytimes.com/2016/12/13/dining/best...   \n",
       "15  https://www.nytimes.com/2010/02/17/dining/revi...   \n",
       "16  https://www.nytimes.com/2018/09/11/dining/sofr...   \n",
       "17  https://www.nytimes.com/2015/06/10/dining/rest...   \n",
       "18  https://www.nytimes.com/2008/11/05/dining/revi...   \n",
       "19  https://www.nytimes.com/2010/03/17/dining/revi...   \n",
       "20  https://www.nytimes.com/2010/06/23/dining/revi...   \n",
       "21  https://www.nytimes.com/2012/05/09/dining/revi...   \n",
       "22  https://www.nytimes.com/2008/12/31/dining/revi...   \n",
       "23  https://www.nytimes.com/2011/01/19/dining/revi...   \n",
       "24  https://www.nytimes.com/2013/11/20/dining/revi...   \n",
       "25  https://www.nytimes.com/2012/02/22/dining/revi...   \n",
       "26  https://www.nytimes.com/2016/05/25/dining/indi...   \n",
       "27  https://www.nytimes.com/2018/09/18/dining/shoj...   \n",
       "28  https://www.nytimes.com/2012/01/11/dining/revi...   \n",
       "29  https://www.nytimes.com/2009/09/30/dining/revi...   \n",
       "30  https://www.nytimes.com/2012/03/07/dining/revi...   \n",
       "31  https://www.nytimes.com/2015/08/12/dining/rest...   \n",
       "32  https://www.nytimes.com/2015/07/15/dining/rest...   \n",
       "33  https://www.nytimes.com/2016/10/19/dining/kara...   \n",
       "34  https://www.nytimes.com/2011/11/09/dining/revi...   \n",
       "35  https://www.nytimes.com/2016/01/13/dining/pete...   \n",
       "36  https://www.nytimes.com/2016/06/22/dining/grun...   \n",
       "37  https://www.nytimes.com/2016/09/07/dining/cass...   \n",
       "38  https://www.nytimes.com/2015/08/05/dining/rest...   \n",
       "39  https://www.nytimes.com/2019/12/03/dining/nami...   \n",
       "40  https://www.nytimes.com/2016/02/10/dining/llam...   \n",
       "41  https://www.nytimes.com/2009/06/17/dining/revi...   \n",
       "42  https://www.nytimes.com/2016/04/13/dining/i-so...   \n",
       "43  https://www.nytimes.com/2016/02/03/dining/beno...   \n",
       "44  https://www.nytimes.com/2014/05/14/dining/rest...   \n",
       "45  https://www.nytimes.com/2010/09/01/dining/revi...   \n",
       "46  https://www.nytimes.com/2013/09/18/dining/revi...   \n",
       "47  https://www.nytimes.com/2018/12/31/dining/hwab...   \n",
       "48  https://www.nytimes.com/2014/01/29/dining/rest...   \n",
       "49  https://www.nytimes.com/2017/12/19/dining/wall...   \n",
       "\n",
       "                                          restaurants  stars  \n",
       "0                                             winner       0  \n",
       "1                            falansai vietnamese food      0  \n",
       "2                               ayat palestinian food      0  \n",
       "3                                               bilao      0  \n",
       "4                                      silver apricot      0  \n",
       "5                                               mokyo      0  \n",
       "6                                 pata paplean queens      0  \n",
       "7                                     kokomo brooklyn      0  \n",
       "8                            rangoon burmese food nyc      0  \n",
       "9                                        peter luger       0  \n",
       "10                    fowler and wells  beekman hotel      2  \n",
       "11                        gabriel kreuther in midtown      3  \n",
       "12                                               odo       3  \n",
       "13                                             22rest      0  \n",
       "14                               best  dishes in nyc       0  \n",
       "15                                        17brief 001      0  \n",
       "16                                             sofreh      2  \n",
       "17                              mission chinese food       2  \n",
       "18                                        05brief 001      0  \n",
       "19                                    17dinbriefs 001      0  \n",
       "20                                        23dinbriefs      0  \n",
       "21                                     frej brooklyn       0  \n",
       "22                                        31brief 002      0  \n",
       "23                                      19dinbriefs 2      0  \n",
       "24  wines for thanksgiving mixing without trying t...      0  \n",
       "25                                      allswell nyc       0  \n",
       "26                                     indian accent       2  \n",
       "27                         shoji at 69 leonard street      3  \n",
       "28                                        onegin nyc       0  \n",
       "29                                        30brief 001      0  \n",
       "30                                      pok pok wing       0  \n",
       "31                               chevalier in midtown      2  \n",
       "32                                  rebelle in nolita      2  \n",
       "33                          karasu zadies oyster room      1  \n",
       "34                      wines for thanksgiving dinner      0  \n",
       "35                                             per se      2  \n",
       "36                                    grunauer bistro      1  \n",
       "37                              cassia santa monica        3  \n",
       "38   untitled at the whitney in the meatpacking di...      2  \n",
       "39                                         nami nori       2  \n",
       "40                                          llama inn      2  \n",
       "41                                        17brief 001      0  \n",
       "42                                            i sodi       2  \n",
       "43                                             benoit      2  \n",
       "44                          el quinto pino in chelsea      2  \n",
       "45                                      01dinbriefs 2      0  \n",
       "46                                   estela in nolita      2  \n",
       "47                                     hwaban korean       2  \n",
       "48      m wells steakhouse in long island city queens      1  \n",
       "49                                   wallse austrian       1  "
      ],
      "text/html": "<div>\n<style scoped>\n    .dataframe tbody tr th:only-of-type {\n        vertical-align: middle;\n    }\n\n    .dataframe tbody tr th {\n        vertical-align: top;\n    }\n\n    .dataframe thead th {\n        text-align: right;\n    }\n</style>\n<table border=\"1\" class=\"dataframe\">\n  <thead>\n    <tr style=\"text-align: right;\">\n      <th></th>\n      <th>Unnamed: 0</th>\n      <th>urls</th>\n      <th>restaurants</th>\n      <th>stars</th>\n    </tr>\n  </thead>\n  <tbody>\n    <tr>\n      <th>0</th>\n      <td>2021-03-01T18:03:31+0000</td>\n      <td>https://www.nytimes.com/2021/03/01/dining/winn...</td>\n      <td>winner</td>\n      <td>0</td>\n    </tr>\n    <tr>\n      <th>1</th>\n      <td>2021-02-12T18:36:55+0000</td>\n      <td>https://www.nytimes.com/2021/02/12/dining/fala...</td>\n      <td>falansai vietnamese food</td>\n      <td>0</td>\n    </tr>\n    <tr>\n      <th>2</th>\n      <td>2020-12-01T17:44:20+0000</td>\n      <td>https://www.nytimes.com/2020/12/01/dining/ayat...</td>\n      <td>ayat palestinian food</td>\n      <td>0</td>\n    </tr>\n    <tr>\n      <th>3</th>\n      <td>2020-11-23T18:00:37+0000</td>\n      <td>https://www.nytimes.com/2020/11/23/dining/bila...</td>\n      <td>bilao</td>\n      <td>0</td>\n    </tr>\n    <tr>\n      <th>4</th>\n      <td>2020-11-10T17:12:25+0000</td>\n      <td>https://www.nytimes.com/2020/11/10/dining/silv...</td>\n      <td>silver apricot</td>\n      <td>0</td>\n    </tr>\n    <tr>\n      <th>5</th>\n      <td>2020-10-27T16:30:08+0000</td>\n      <td>https://www.nytimes.com/2020/10/27/dining/moky...</td>\n      <td>mokyo</td>\n      <td>0</td>\n    </tr>\n    <tr>\n      <th>6</th>\n      <td>2020-10-20T16:13:52+0000</td>\n      <td>https://www.nytimes.com/2020/10/20/dining/pata...</td>\n      <td>pata paplean queens</td>\n      <td>0</td>\n    </tr>\n    <tr>\n      <th>7</th>\n      <td>2020-10-06T15:54:22+0000</td>\n      <td>https://www.nytimes.com/2020/10/06/dining/koko...</td>\n      <td>kokomo brooklyn</td>\n      <td>0</td>\n    </tr>\n    <tr>\n      <th>8</th>\n      <td>2020-09-21T19:30:55+0000</td>\n      <td>https://www.nytimes.com/2020/09/21/dining/rang...</td>\n      <td>rangoon burmese food nyc</td>\n      <td>0</td>\n    </tr>\n    <tr>\n      <th>9</th>\n      <td>2019-10-29T14:55:49+0000</td>\n      <td>https://www.nytimes.com/2019/10/29/dining/pete...</td>\n      <td>peter luger</td>\n      <td>0</td>\n    </tr>\n    <tr>\n      <th>10</th>\n      <td>2017-01-24T17:00:49+0000</td>\n      <td>https://www.nytimes.com/2017/01/24/dining/fowl...</td>\n      <td>fowler and wells  beekman hotel</td>\n      <td>2</td>\n    </tr>\n    <tr>\n      <th>11</th>\n      <td>2015-09-22T16:26:35+0000</td>\n      <td>https://www.nytimes.com/2015/09/23/dining/rest...</td>\n      <td>gabriel kreuther in midtown</td>\n      <td>3</td>\n    </tr>\n    <tr>\n      <th>12</th>\n      <td>2019-03-19T16:30:43+0000</td>\n      <td>https://www.nytimes.com/2019/03/19/dining/odo-...</td>\n      <td>odo</td>\n      <td>3</td>\n    </tr>\n    <tr>\n      <th>13</th>\n      <td>2010-09-21T21:24:42+0000</td>\n      <td>https://www.nytimes.com/2010/09/22/dining/revi...</td>\n      <td>22rest</td>\n      <td>0</td>\n    </tr>\n    <tr>\n      <th>14</th>\n      <td>2016-12-13T19:07:21+0000</td>\n      <td>https://www.nytimes.com/2016/12/13/dining/best...</td>\n      <td>best  dishes in nyc</td>\n      <td>0</td>\n    </tr>\n    <tr>\n      <th>15</th>\n      <td>2010-02-17T00:37:47+0000</td>\n      <td>https://www.nytimes.com/2010/02/17/dining/revi...</td>\n      <td>17brief 001</td>\n      <td>0</td>\n    </tr>\n    <tr>\n      <th>16</th>\n      <td>2018-09-11T15:21:08+0000</td>\n      <td>https://www.nytimes.com/2018/09/11/dining/sofr...</td>\n      <td>sofreh</td>\n      <td>2</td>\n    </tr>\n    <tr>\n      <th>17</th>\n      <td>2015-06-09T16:03:49+0000</td>\n      <td>https://www.nytimes.com/2015/06/10/dining/rest...</td>\n      <td>mission chinese food</td>\n      <td>2</td>\n    </tr>\n    <tr>\n      <th>18</th>\n      <td>2008-11-04T22:46:58+0000</td>\n      <td>https://www.nytimes.com/2008/11/05/dining/revi...</td>\n      <td>05brief 001</td>\n      <td>0</td>\n    </tr>\n    <tr>\n      <th>19</th>\n      <td>2010-03-16T22:34:16+0000</td>\n      <td>https://www.nytimes.com/2010/03/17/dining/revi...</td>\n      <td>17dinbriefs 001</td>\n      <td>0</td>\n    </tr>\n    <tr>\n      <th>20</th>\n      <td>2010-06-22T22:56:23+0000</td>\n      <td>https://www.nytimes.com/2010/06/23/dining/revi...</td>\n      <td>23dinbriefs</td>\n      <td>0</td>\n    </tr>\n    <tr>\n      <th>21</th>\n      <td>2012-05-08T23:42:36+0000</td>\n      <td>https://www.nytimes.com/2012/05/09/dining/revi...</td>\n      <td>frej brooklyn</td>\n      <td>0</td>\n    </tr>\n    <tr>\n      <th>22</th>\n      <td>2008-12-31T00:48:32+0000</td>\n      <td>https://www.nytimes.com/2008/12/31/dining/revi...</td>\n      <td>31brief 002</td>\n      <td>0</td>\n    </tr>\n    <tr>\n      <th>23</th>\n      <td>2011-01-19T00:01:12+0000</td>\n      <td>https://www.nytimes.com/2011/01/19/dining/revi...</td>\n      <td>19dinbriefs 2</td>\n      <td>0</td>\n    </tr>\n    <tr>\n      <th>24</th>\n      <td>2013-11-14T22:26:03+0000</td>\n      <td>https://www.nytimes.com/2013/11/20/dining/revi...</td>\n      <td>wines for thanksgiving mixing without trying t...</td>\n      <td>0</td>\n    </tr>\n    <tr>\n      <th>25</th>\n      <td>2012-02-21T23:58:30+0000</td>\n      <td>https://www.nytimes.com/2012/02/22/dining/revi...</td>\n      <td>allswell nyc</td>\n      <td>0</td>\n    </tr>\n    <tr>\n      <th>26</th>\n      <td>2016-05-24T15:45:29+0000</td>\n      <td>https://www.nytimes.com/2016/05/25/dining/indi...</td>\n      <td>indian accent</td>\n      <td>2</td>\n    </tr>\n    <tr>\n      <th>27</th>\n      <td>2018-09-18T16:13:02+0000</td>\n      <td>https://www.nytimes.com/2018/09/18/dining/shoj...</td>\n      <td>shoji at 69 leonard street</td>\n      <td>3</td>\n    </tr>\n    <tr>\n      <th>28</th>\n      <td>2012-01-11T00:22:48+0000</td>\n      <td>https://www.nytimes.com/2012/01/11/dining/revi...</td>\n      <td>onegin nyc</td>\n      <td>0</td>\n    </tr>\n    <tr>\n      <th>29</th>\n      <td>2009-09-29T22:54:28+0000</td>\n      <td>https://www.nytimes.com/2009/09/30/dining/revi...</td>\n      <td>30brief 001</td>\n      <td>0</td>\n    </tr>\n    <tr>\n      <th>30</th>\n      <td>2012-03-06T23:11:51+0000</td>\n      <td>https://www.nytimes.com/2012/03/07/dining/revi...</td>\n      <td>pok pok wing</td>\n      <td>0</td>\n    </tr>\n    <tr>\n      <th>31</th>\n      <td>2015-08-11T16:00:23+0000</td>\n      <td>https://www.nytimes.com/2015/08/12/dining/rest...</td>\n      <td>chevalier in midtown</td>\n      <td>2</td>\n    </tr>\n    <tr>\n      <th>32</th>\n      <td>2015-07-14T15:28:23+0000</td>\n      <td>https://www.nytimes.com/2015/07/15/dining/rest...</td>\n      <td>rebelle in nolita</td>\n      <td>2</td>\n    </tr>\n    <tr>\n      <th>33</th>\n      <td>2016-10-18T15:34:06+0000</td>\n      <td>https://www.nytimes.com/2016/10/19/dining/kara...</td>\n      <td>karasu zadies oyster room</td>\n      <td>1</td>\n    </tr>\n    <tr>\n      <th>34</th>\n      <td>2011-11-08T18:53:22+0000</td>\n      <td>https://www.nytimes.com/2011/11/09/dining/revi...</td>\n      <td>wines for thanksgiving dinner</td>\n      <td>0</td>\n    </tr>\n    <tr>\n      <th>35</th>\n      <td>2016-01-12T16:18:59+0000</td>\n      <td>https://www.nytimes.com/2016/01/13/dining/pete...</td>\n      <td>per se</td>\n      <td>2</td>\n    </tr>\n    <tr>\n      <th>36</th>\n      <td>2016-06-21T15:01:37+0000</td>\n      <td>https://www.nytimes.com/2016/06/22/dining/grun...</td>\n      <td>grunauer bistro</td>\n      <td>1</td>\n    </tr>\n    <tr>\n      <th>37</th>\n      <td>2016-09-06T12:03:06+0000</td>\n      <td>https://www.nytimes.com/2016/09/07/dining/cass...</td>\n      <td>cassia santa monica</td>\n      <td>3</td>\n    </tr>\n    <tr>\n      <th>38</th>\n      <td>2015-08-04T17:26:21+0000</td>\n      <td>https://www.nytimes.com/2015/08/05/dining/rest...</td>\n      <td>untitled at the whitney in the meatpacking di...</td>\n      <td>2</td>\n    </tr>\n    <tr>\n      <th>39</th>\n      <td>2019-12-03T16:57:12+0000</td>\n      <td>https://www.nytimes.com/2019/12/03/dining/nami...</td>\n      <td>nami nori</td>\n      <td>2</td>\n    </tr>\n    <tr>\n      <th>40</th>\n      <td>2016-02-09T16:19:44+0000</td>\n      <td>https://www.nytimes.com/2016/02/10/dining/llam...</td>\n      <td>llama inn</td>\n      <td>2</td>\n    </tr>\n    <tr>\n      <th>41</th>\n      <td>2009-06-16T23:50:11+0000</td>\n      <td>https://www.nytimes.com/2009/06/17/dining/revi...</td>\n      <td>17brief 001</td>\n      <td>0</td>\n    </tr>\n    <tr>\n      <th>42</th>\n      <td>2016-04-12T16:04:45+0000</td>\n      <td>https://www.nytimes.com/2016/04/13/dining/i-so...</td>\n      <td>i sodi</td>\n      <td>2</td>\n    </tr>\n    <tr>\n      <th>43</th>\n      <td>2016-02-02T16:45:59+0000</td>\n      <td>https://www.nytimes.com/2016/02/03/dining/beno...</td>\n      <td>benoit</td>\n      <td>2</td>\n    </tr>\n    <tr>\n      <th>44</th>\n      <td>2014-05-13T17:58:31+0000</td>\n      <td>https://www.nytimes.com/2014/05/14/dining/rest...</td>\n      <td>el quinto pino in chelsea</td>\n      <td>2</td>\n    </tr>\n    <tr>\n      <th>45</th>\n      <td>2010-08-31T23:16:51+0000</td>\n      <td>https://www.nytimes.com/2010/09/01/dining/revi...</td>\n      <td>01dinbriefs 2</td>\n      <td>0</td>\n    </tr>\n    <tr>\n      <th>46</th>\n      <td>2013-09-17T21:11:59+0000</td>\n      <td>https://www.nytimes.com/2013/09/18/dining/revi...</td>\n      <td>estela in nolita</td>\n      <td>2</td>\n    </tr>\n    <tr>\n      <th>47</th>\n      <td>2018-12-31T18:34:57+0000</td>\n      <td>https://www.nytimes.com/2018/12/31/dining/hwab...</td>\n      <td>hwaban korean</td>\n      <td>2</td>\n    </tr>\n    <tr>\n      <th>48</th>\n      <td>2014-01-28T22:00:25+0000</td>\n      <td>https://www.nytimes.com/2014/01/29/dining/rest...</td>\n      <td>m wells steakhouse in long island city queens</td>\n      <td>1</td>\n    </tr>\n    <tr>\n      <th>49</th>\n      <td>2017-12-19T17:26:29+0000</td>\n      <td>https://www.nytimes.com/2017/12/19/dining/wall...</td>\n      <td>wallse austrian</td>\n      <td>1</td>\n    </tr>\n  </tbody>\n</table>\n</div>"
     },
     "metadata": {},
     "execution_count": 51
    }
   ],
   "source": [
    "df[0:50]"
   ]
  },
  {
   "cell_type": "code",
   "execution_count": 57,
   "metadata": {},
   "outputs": [
    {
     "output_type": "execute_result",
     "data": {
      "text/plain": [
       "['17brief 001',\n",
       " '05brief 001',\n",
       " '17dinbriefs 001',\n",
       " '23dinbriefs',\n",
       " '31brief 002',\n",
       " '19dinbriefs 2',\n",
       " '30brief 001',\n",
       " '17brief 001',\n",
       " '01dinbriefs 2',\n",
       " '26brief']"
      ]
     },
     "metadata": {},
     "execution_count": 57
    }
   ],
   "source": [
    "[i for i in df.restaurants if 'brief' in i]"
   ]
  },
  {
   "cell_type": "code",
   "execution_count": 70,
   "metadata": {},
   "outputs": [
    {
     "output_type": "execute_result",
     "data": {
      "text/plain": [
       "['29cheap']"
      ]
     },
     "metadata": {},
     "execution_count": 70
    }
   ],
   "source": [
    "[i for i in df.restaurants if '29' in i]"
   ]
  },
  {
   "cell_type": "code",
   "execution_count": null,
   "metadata": {},
   "outputs": [],
   "source": []
  }
 ]
}