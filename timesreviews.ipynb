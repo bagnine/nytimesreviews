{
 "metadata": {
  "language_info": {
   "codemirror_mode": {
    "name": "ipython",
    "version": 3
   },
   "file_extension": ".py",
   "mimetype": "text/x-python",
   "name": "python",
   "nbconvert_exporter": "python",
   "pygments_lexer": "ipython3",
   "version": "3.6.9-final"
  },
  "orig_nbformat": 2,
  "kernelspec": {
   "name": "python3",
   "display_name": "Python 3.6.9 64-bit ('learn-env': conda)",
   "metadata": {
    "interpreter": {
     "hash": "9b546e02e2ae7bc31ff393e72c59458abdd61657dbde44a42856f782e397745f"
    }
   }
  }
 },
 "nbformat": 4,
 "nbformat_minor": 2,
 "cells": [
  {
   "cell_type": "code",
   "execution_count": 120,
   "metadata": {},
   "outputs": [],
   "source": [
    "import json\n",
    "import numpy as np\n",
    "import pandas as pd\n",
    "import requests"
   ]
  },
  {
   "cell_type": "code",
   "execution_count": 121,
   "metadata": {},
   "outputs": [],
   "source": [
    "key = open('APIkeys.txt', 'r')"
   ]
  },
  {
   "cell_type": "code",
   "execution_count": 122,
   "metadata": {},
   "outputs": [],
   "source": [
    "keys = list(key)"
   ]
  },
  {
   "cell_type": "code",
   "execution_count": 123,
   "metadata": {},
   "outputs": [],
   "source": [
    "api_key = keys[0].split()[2]"
   ]
  },
  {
   "cell_type": "code",
   "execution_count": 124,
   "metadata": {},
   "outputs": [],
   "source": [
    "page = 1"
   ]
  },
  {
   "cell_type": "code",
   "execution_count": 125,
   "metadata": {},
   "outputs": [],
   "source": [
    "url = f'https://api.nytimes.com/svc/search/v2/articlesearch.json?q=Pete Wells&fq=news_desk:(Dining) AND type_of_material:(Review)&page={page}&api-key={api_key}'\n",
    "\n"
   ]
  },
  {
   "cell_type": "code",
   "execution_count": 127,
   "metadata": {},
   "outputs": [],
   "source": [
    "r = requests.get(url)"
   ]
  },
  {
   "cell_type": "code",
   "execution_count": 128,
   "metadata": {},
   "outputs": [],
   "source": [
    "json_data = r.json()"
   ]
  },
  {
   "cell_type": "code",
   "execution_count": 129,
   "metadata": {},
   "outputs": [
    {
     "output_type": "execute_result",
     "data": {
      "text/plain": [
       "'https://www.nytimes.com/2010/02/17/dining/reviews/17brief-001.html'"
      ]
     },
     "metadata": {},
     "execution_count": 129
    }
   ],
   "source": [
    "r.json()['response']['docs'][4]['web_url']"
   ]
  },
  {
   "cell_type": "code",
   "execution_count": 188,
   "metadata": {},
   "outputs": [
    {
     "output_type": "execute_result",
     "data": {
      "text/plain": [
       "'https://www.nytimes.com/2012/05/09/dining/reviews/frej-brooklyn-restaurant-review.html'"
      ]
     },
     "metadata": {},
     "execution_count": 188
    }
   ],
   "source": [
    "nytimes_query(api_key, 'Pete Wells', news_desk = 'Dining', type_of_material = 'Review', n_page = 2)[0]['web_url']"
   ]
  },
  {
   "cell_type": "code",
   "execution_count": 190,
   "metadata": {},
   "outputs": [],
   "source": [
    "def nytimes_query(api_key, query, \n",
    "                  glocations = None, headline = None, news_desk = None, \n",
    "                  organizations = None, persons = None, byline = None, \n",
    "                  subject = None, news_type = None, type_of_material = None, \n",
    "                  begin_date = None, end_date = None, n_page = 1):\n",
    "    '''\n",
    "    Perform a query from the NYTimes API and return a JSON of results\n",
    "    ----\n",
    "    Arguments:\n",
    "    api-key -- a user-specific key registered at developer.nytimes.com\n",
    "    query -- the search terms used for the query\n",
    "    \n",
    "    filters:\n",
    "        each of the following categories is set at None by default. If values are added, the\n",
    "        queries will be filtered based on the parameter\n",
    "\n",
    "        glocations -- geographic locations\n",
    "        headline -- literal headline\n",
    "        news_desk -- by news desk using the following values:\n",
    "            Adventure Sports\n",
    "            Arts & Leisure\n",
    "            Arts\n",
    "            Automobiles\n",
    "            Blogs\n",
    "            Books\n",
    "            Booming\n",
    "            Business Day\n",
    "            Business\n",
    "            Cars\n",
    "            Circuits\n",
    "            Classifieds\n",
    "            Connecticut\n",
    "            Crosswords & Games\n",
    "            Culture\n",
    "            DealBook\n",
    "            Dining\n",
    "            Editorial\n",
    "            Education\n",
    "            Energy\n",
    "            Entrepreneurs\n",
    "            Environment\n",
    "            Escapes\n",
    "            Fashion & Style\n",
    "            Fashion\n",
    "            Favorites\n",
    "            Financial\n",
    "            Flight\n",
    "            Food\n",
    "            Foreign\n",
    "            Generations\n",
    "            Giving\n",
    "            Global Home\n",
    "            Health & Fitness\n",
    "            Health\n",
    "            Home & Garden\n",
    "            Home\n",
    "            Jobs\n",
    "            Key\n",
    "            Letters\n",
    "            Long Island\n",
    "            Magazine\n",
    "            Market Place\n",
    "            Media\n",
    "            Men's Health\n",
    "            Metro\n",
    "            Metropolitan\n",
    "            Movies\n",
    "            Museums\n",
    "            National\n",
    "            Nesting\n",
    "            Obits\n",
    "            Obituaries\n",
    "            Obituary\n",
    "            OpEd\n",
    "            Opinion\n",
    "            Outlook\n",
    "            Personal Investing\n",
    "            Personal Tech\n",
    "            Play\n",
    "            Politics\n",
    "            Regionals\n",
    "            Retail\n",
    "            Retirement\n",
    "            Science\n",
    "            Small Business\n",
    "            Society\n",
    "            Sports\n",
    "            Style\n",
    "            Sunday Business\n",
    "            Sunday Review\n",
    "            Sunday Styles\n",
    "            T Magazine\n",
    "            T Style\n",
    "            Technology\n",
    "            Teens\n",
    "            Television\n",
    "            The Arts\n",
    "            The Business of Green\n",
    "            The City Desk\n",
    "            The City\n",
    "            The Marathon\n",
    "            The Millennium\n",
    "            The Natural World\n",
    "            The Upshot\n",
    "            The Weekend\n",
    "            The Year in Pictures\n",
    "            Theater\n",
    "            Then & Now\n",
    "            Thursday Styles\n",
    "            Times Topics\n",
    "            Travel\n",
    "            U.S.\n",
    "            Universal\n",
    "            Upshot\n",
    "            UrbanEye\n",
    "            Vacation\n",
    "            Washington\n",
    "            Wealth\n",
    "            Weather\n",
    "            Week in Review\n",
    "            Week\n",
    "            Weekend\n",
    "            Westchester\n",
    "            Wireless Living\n",
    "            Women's Health\n",
    "            Working\n",
    "            Workplace\n",
    "            World\n",
    "            Your Money\n",
    "        organizations \n",
    "        persons -- filter by persons referenced\n",
    "        byline -- filter by writer or several other parameters- see developer.nytimes.com\n",
    "        subject -- by subject\n",
    "        type_of_material -- document type- sample values below:\n",
    "            Addendum\n",
    "            An Analysis\n",
    "            An Appraisal\n",
    "            Archives\n",
    "            Article\n",
    "            Banner\n",
    "            Biography\n",
    "            Birth Notice\n",
    "            Blog\n",
    "            Brief\n",
    "            Caption\n",
    "            Chronology\n",
    "            Column\n",
    "            Correction\n",
    "            Economic Analysis\n",
    "            Editorial\n",
    "            Editorial Cartoon\n",
    "            Editors' Note\n",
    "            First Chapter\n",
    "            Front Page\n",
    "            Glossary\n",
    "            Interactive Feature\n",
    "            Interactive Graphic\n",
    "            Interview\n",
    "            Letter\n",
    "            List\n",
    "            Marriage Announcement\n",
    "            Military Analysis\n",
    "            News\n",
    "            News Analysis\n",
    "            Newsletter\n",
    "            Obituary\n",
    "            Obituary (Obit)\n",
    "            Op-Ed\n",
    "            Paid Death Notice\n",
    "            Postscript\n",
    "            Premium\n",
    "            Question\n",
    "            Quote\n",
    "            Recipe\n",
    "            Review\n",
    "            Schedule\n",
    "            SectionFront\n",
    "            Series\n",
    "            Slideshow\n",
    "            Special Report\n",
    "            Statistics\n",
    "            Summary\n",
    "            Text\n",
    "            Video\n",
    "            Web Log\n",
    "\n",
    "    date params:\n",
    "        begin_date -- beginning date of filter \n",
    "        end_date -- end date of filter\n",
    "    n_page -- the selected page of returns- for large queries this will select sections to return\n",
    "    '''\n",
    "    # Set the base url for the query\n",
    "    base_url = f'https://api.nytimes.com/svc/search/v2/articlesearch.json?q={query}'             \n",
    "    # Empty dictionary for filters\n",
    "    filter_queries = {}\n",
    "    # empty dictionary for dates\n",
    "    dates = {}\n",
    "\n",
    "    # Populate the filter dictionary\n",
    "    if glocations:\n",
    "        filter_queries.update({'glocations': glocations})\n",
    "    if headline:\n",
    "        filter_queries.update({'headline': headline})\n",
    "    if news_desk:\n",
    "        filter_queries.update({'news_desk': news_desk})\n",
    "    if organizations:\n",
    "        filter_queries.update({'organizations': organizations})\n",
    "    if persons:\n",
    "        filter_queries.update({'persons': persons})\n",
    "    if subject:\n",
    "        filter_queries.update({'subject': subject})\n",
    "    if byline:\n",
    "        filter_queries.update({'byline': byline})\n",
    "    if news_type:\n",
    "        filter_queries.update({'news_type': news_type})\n",
    "    if type_of_material:\n",
    "        filter_queries.update({'type_of_material': type_of_material})\n",
    "    \n",
    "    # Populate the date dictionary\n",
    "    if begin_date:\n",
    "        dates.update({'begin_date': begin_date})\n",
    "    if end_date:\n",
    "        dates.update({'end_date':end_date})\n",
    "    \n",
    "    # If 1 filter is present, and/or date params, add to URL and execute query\n",
    "    if len(filter_queries) == 1:\n",
    "        base_url += f'&fq={list(filter_queries.keys())[0]}:({list(filter_queries.values())[0]})'\n",
    "        if len(dates) == 1:\n",
    "            base_url += f'&{list(filter_queries.keys())[0]}={list(filter_queries.values())[0]}&'\n",
    "        elif len(dates) == 2:\n",
    "            base_url += '&'\n",
    "            for i in dates.keys():\n",
    "                base_url += f'{i}={dates[i]}&'\n",
    "\n",
    "    # If 2 or more filters are present, concatenate with AND, add dates if present and execute\n",
    "    elif  len(filter_queries) > 1:\n",
    "        base_url += '&fq='\n",
    "        for i in filter_queries.keys():\n",
    "            base_url += f'{i}:({filter_queries[i]}) AND '\n",
    "        base_url = base_url[:-5]\n",
    "        if len(dates) == 1:\n",
    "            base_url += f'&{list(filter_queries.keys())[0]}={list(filter_queries.values())[0]}&'\n",
    "        elif len(dates) == 2:\n",
    "            base_url += '&'\n",
    "            for i in dates.keys():\n",
    "                base_url += f'{i}={dates[i]}&'\n",
    "\n",
    "    # concatenate page number and api key and make the request. \n",
    "    # Returns a truncated JSON indexed past the metadata\n",
    "    base_url += f'&page={n_page}'\n",
    "    base_url += f'&api-key={api_key}'\n",
    "    r = requests.get(base_url)\n",
    "    json_data = r.json()\n",
    "    return r.json()['response']['docs']"
   ]
  },
  {
   "cell_type": "code",
   "execution_count": 148,
   "metadata": {},
   "outputs": [],
   "source": [
    "glocations = 'm'"
   ]
  },
  {
   "cell_type": "code",
   "execution_count": 172,
   "metadata": {},
   "outputs": [],
   "source": [
    "def test_function(glocations = None, headline = None, news_desk = None, \n",
    "                  organizations = None, persons = None, byline = None, \n",
    "                  subject = None, news_type = None, type_of_material = None, \n",
    "                  begin_date = None, end_date = None):\n",
    "    for i in [glocations, headline, news_desk, \n",
    "              organizations, persons, byline, \n",
    "              subject, news_type, type_of_material]:\n",
    "        if i:\n",
    "            print(i)\n"
   ]
  },
  {
   "cell_type": "code",
   "execution_count": 173,
   "metadata": {},
   "outputs": [
    {
     "output_type": "stream",
     "name": "stdout",
     "text": [
      "your mom\nphhh\n"
     ]
    }
   ],
   "source": [
    "test_function(glocations = 'your mom', byline = 'phhh')"
   ]
  },
  {
   "cell_type": "code",
   "execution_count": null,
   "metadata": {},
   "outputs": [],
   "source": []
  }
 ]
}