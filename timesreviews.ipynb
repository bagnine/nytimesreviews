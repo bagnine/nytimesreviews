{
 "metadata": {
  "language_info": {
   "codemirror_mode": {
    "name": "ipython",
    "version": 3
   },
   "file_extension": ".py",
   "mimetype": "text/x-python",
   "name": "python",
   "nbconvert_exporter": "python",
   "pygments_lexer": "ipython3",
   "version": "3.6.9-final"
  },
  "orig_nbformat": 2,
  "kernelspec": {
   "name": "python3",
   "display_name": "Python 3.6.9 64-bit",
   "metadata": {
    "interpreter": {
     "hash": "9b546e02e2ae7bc31ff393e72c59458abdd61657dbde44a42856f782e397745f"
    }
   }
  }
 },
 "nbformat": 4,
 "nbformat_minor": 2,
 "cells": [
  {
   "cell_type": "code",
   "execution_count": 1,
   "metadata": {},
   "outputs": [],
   "source": [
    "import numpy as np\n",
    "import pandas as pd\n",
    "\n",
    "import json\n",
    "import requests\n",
    "import googlemaps\n",
    "from bs4 import BeautifulSoup\n",
    "import query\n",
    "import time\n",
    "\n",
    "import matplotlib.pyplot as plt\n",
    "import seaborn as sns"
   ]
  },
  {
   "cell_type": "code",
   "execution_count": 2,
   "metadata": {},
   "outputs": [],
   "source": [
    "# load api keys\n",
    "\n",
    "key = open('APIkeys.txt', 'r')\n",
    "goog_key = open('google_places_api_key.txt', 'r')"
   ]
  },
  {
   "cell_type": "code",
   "execution_count": 3,
   "metadata": {},
   "outputs": [],
   "source": [
    "keys = list(key)"
   ]
  },
  {
   "cell_type": "code",
   "execution_count": 4,
   "metadata": {},
   "outputs": [],
   "source": [
    "# save keys as strings\n",
    "\n",
    "api_key = keys[0].split()[2]\n",
    "goog_api_key = list(goog_key)[0][11:-1]"
   ]
  },
  {
   "cell_type": "code",
   "execution_count": 5,
   "metadata": {},
   "outputs": [],
   "source": [
    "# instantiate googlemaps object\n",
    "\n",
    "gmaps = googlemaps.Client(key=goog_api_key)"
   ]
  },
  {
   "cell_type": "code",
   "execution_count": null,
   "metadata": {},
   "outputs": [],
   "source": [
    "# Query NYTimes API for 800 reviews by Pete Wells from 2012-2021\n",
    "urls, restaurants_100, dates = query.review_url_names(api_key, 'Pete Wells', news_desk = 'Dining', type_of_material = 'Review', begin_date = '20120101', end_date = '20210401',n_pages_min = 0, n_pages_max = 80)"
   ]
  },
  {
   "cell_type": "code",
   "execution_count": null,
   "metadata": {},
   "outputs": [],
   "source": [
    "# create a dataframe with the returned items\n",
    "df = pd.DataFrame(index = dates)\n",
    "df['urls'] = urls\n",
    "df['restaurants'] = restaurants_100"
   ]
  },
  {
   "cell_type": "code",
   "execution_count": null,
   "metadata": {},
   "outputs": [],
   "source": [
    "df.head()"
   ]
  },
  {
   "cell_type": "code",
   "execution_count": null,
   "metadata": {},
   "outputs": [],
   "source": [
    "# Remove irrelevant words from the restaurants column\n",
    "stopwords = ['review', 'pete wells', 'restaurant', 'on the lower east side']\n",
    "\n",
    "df['restaurants'] = query.remove_stopwords(df['restaurants'], stopwords)"
   ]
  },
  {
   "cell_type": "code",
   "execution_count": null,
   "metadata": {},
   "outputs": [],
   "source": [
    "# Reload the saved data\n",
    "\n",
    "df = pd.read_csv('restaurants.csv')\n",
    "df.set_index('Unnamed: 0.1', inplace = True)\n",
    "df.drop(columns = 'Unnamed: 0', inplace = True)"
   ]
  },
  {
   "cell_type": "code",
   "execution_count": null,
   "metadata": {},
   "outputs": [],
   "source": [
    "# Drop non-review rows including articles from before Wells was the main Dining critic, roundups and briefs\n",
    "\n",
    "df = query.drop_rows(['unde', 'rest', 'brief', 'hungry city'], df, 'restaurants')"
   ]
  },
  {
   "cell_type": "code",
   "execution_count": null,
   "metadata": {},
   "outputs": [],
   "source": [
    "# Get star ratings for each review if applicable\n",
    "\n",
    "df['stars'] = query.get_stars(df.urls)"
   ]
  },
  {
   "cell_type": "code",
   "execution_count": null,
   "metadata": {},
   "outputs": [],
   "source": [
    "# Convert stars from ASCII to number of stars\n",
    "\n",
    "df['stars'] = df.stars.apply(lambda i: len(i) if type(i) == str else 0)"
   ]
  },
  {
   "cell_type": "code",
   "execution_count": 6,
   "metadata": {},
   "outputs": [],
   "source": [
    "fields = ['name', 'business_status', 'place_id', 'formatted_address'] "
   ]
  },
  {
   "cell_type": "code",
   "execution_count": 24,
   "metadata": {},
   "outputs": [],
   "source": [
    "def get_rest_info(rest_names, fields, googlemap_object, rest_location= 'NYC'):\n",
    "    ''''''\n",
    "    dct = {}\n",
    "    for i in rest_names:\n",
    "        dct.update({i: googlemap_object.find_place(\n",
    "            i + rest_location, input_type = 'textquery', fields = fields)})\n",
    "    \n",
    "    df = pd.DataFrame(columns = fields)\n",
    "\n",
    "    for i in dct:\n",
    "        try:\n",
    "            dict1 = {}\n",
    "            for j in fields:\n",
    "        \n",
    "                dict1.update({j:dct[i]['candidates'][0][j]})\n",
    "            df.append(dict1, ignore_index = True)\n",
    "\n",
    "        except (IndexError, KeyError):\n",
    "            dict1 = {}\n",
    "            for j in fields:\n",
    "                dict1.update({j:np.NaN})\n",
    "            df.append(dict1, ignore_index = True)\n",
    "    \n",
    "    return df\n",
    "    "
   ]
  },
  {
   "cell_type": "code",
   "execution_count": null,
   "metadata": {},
   "outputs": [],
   "source": [
    "dct = {}\n",
    "for i in list(df.restaurants):\n",
    "    dct.update({i : gmaps.find_place(i + ' NYC', input_type='textquery', fields = ['name', 'business_status', 'place_id', 'formatted_address'] )})"
   ]
  },
  {
   "cell_type": "code",
   "execution_count": null,
   "metadata": {},
   "outputs": [],
   "source": [
    "df1_name = []\n",
    "business_status = []\n",
    "formatted_address = []\n",
    "name = []\n",
    "place_id = []\n",
    "\n",
    "\n",
    "\n",
    "for i in dct:\n",
    "    try:\n",
    "        df1_name.append(i)\n",
    "        business_status.append(dct[i]['candidates'][0]['business_status'])\n",
    "        formatted_address.append(dct[i]['candidates'][0]['formatted_address'])\n",
    "        name.append(dct[i]['candidates'][0]['name'])\n",
    "        place_id.append(dct[i]['candidates'][0]['place_id'])\n",
    "    except (IndexError, KeyError):\n",
    "        business_status.append(np.NaN)\n",
    "        formatted_address.append(np.NaN)\n",
    "        name.append(np.NaN)\n",
    "        place_id.append(np.NaN)\n"
   ]
  },
  {
   "cell_type": "code",
   "execution_count": null,
   "metadata": {},
   "outputs": [],
   "source": [
    "def gmaps_dataframe(list_of_restaurants, fields, gmaps_obj):\n",
    "    dct = {}\n",
    "    for i in list_of_restaurants:\n",
    "        dct.update({i : gmaps.find_place(i + ' NYC', input_type='textquery', fields = fields)})\n",
    "    for i in fields:\n",
    "        i = []\n",
    "    "
   ]
  },
  {
   "cell_type": "code",
   "execution_count": null,
   "metadata": {},
   "outputs": [],
   "source": [
    "df1 = pd.DataFrame({'status': business_status, 'address':formatted_address, 'restaurants':df1_name, 'place_id': place_id, 'name' :name})"
   ]
  },
  {
   "cell_type": "code",
   "execution_count": null,
   "metadata": {},
   "outputs": [],
   "source": [
    "maindf = df.reset_index().merge(df1, how = 'left', on= 'restaurants').set_index('index')"
   ]
  },
  {
   "cell_type": "code",
   "execution_count": null,
   "metadata": {},
   "outputs": [],
   "source": [
    "maindf.to_csv('merged.csv')"
   ]
  },
  {
   "cell_type": "code",
   "execution_count": null,
   "metadata": {},
   "outputs": [],
   "source": [
    "maindf = pd.read_csv('merged.csv')\n",
    "maindf.set_index('index', inplace = True)"
   ]
  },
  {
   "cell_type": "code",
   "execution_count": null,
   "metadata": {},
   "outputs": [],
   "source": [
    "maindf['zipcode'] = maindf.address.apply(lambda i: i.split('United')[0].split(' ')[-2][0:-1])"
   ]
  },
  {
   "cell_type": "code",
   "execution_count": null,
   "metadata": {},
   "outputs": [],
   "source": [
    "maindf = maindf[maindf.zipcode.str.startswith('1')]\n",
    "maindf = maindf[maindf.zipcode.str.isnumeric()]\n",
    "maindf = maindf[maindf.zipcode != '11010']"
   ]
  },
  {
   "cell_type": "code",
   "execution_count": null,
   "metadata": {},
   "outputs": [],
   "source": [
    "def borough_column(address_column):\n",
    "    borough = []\n",
    "    for i in address_column:\n",
    "        borough.append(i.split(', NY')[0].split(' ')[-1])\n",
    "    for i in range(len(borough)):\n",
    "        if borough[i] in ('York', 'States'):\n",
    "            borough[i] = 'Manhattan'\n",
    "        elif borough[i] in ('Maspeth', 'Ridgewood', 'Astoria', 'Flushing', \n",
    "                            'City', 'Hill', 'Broadway', 'Point', 'Park'):    \n",
    "            borough[i] = 'Queens'\n",
    "        elif borough[i] == 'Island':\n",
    "            borough[i] = 'Staten Island'\n",
    "\n",
    "    return borough"
   ]
  },
  {
   "cell_type": "code",
   "execution_count": null,
   "metadata": {},
   "outputs": [],
   "source": [
    "maindf['borough'] = query.borough_column(maindf.address)"
   ]
  },
  {
   "cell_type": "code",
   "execution_count": null,
   "metadata": {},
   "outputs": [],
   "source": [
    "maindf.drop(columns = 'restaurants', inplace = True)"
   ]
  },
  {
   "cell_type": "code",
   "execution_count": null,
   "metadata": {},
   "outputs": [],
   "source": [
    "maindf.dropna(inplace = True)"
   ]
  },
  {
   "cell_type": "code",
   "execution_count": null,
   "metadata": {},
   "outputs": [],
   "source": [
    "maindf.info()"
   ]
  },
  {
   "cell_type": "code",
   "execution_count": null,
   "metadata": {},
   "outputs": [],
   "source": [
    "maindf.stars.value_counts()"
   ]
  },
  {
   "cell_type": "code",
   "execution_count": null,
   "metadata": {},
   "outputs": [],
   "source": [
    "maindf.status.value_counts()"
   ]
  },
  {
   "cell_type": "code",
   "execution_count": null,
   "metadata": {},
   "outputs": [],
   "source": [
    "plt.bar(height = maindf[maindf['status'] == 'CLOSED_PERMANENTLY']['stars'].value_counts(), x = maindf[maindf['status'] == 'CLOSED_PERMANENTLY']['stars'].value_counts().index)\n",
    "plt.title('Permanently Closed Restaurants by NYTimes Stars')\n",
    "plt.xticks([0,1,2,3,4]);"
   ]
  },
  {
   "cell_type": "code",
   "execution_count": null,
   "metadata": {},
   "outputs": [],
   "source": [
    "plt.bar(height = maindf[maindf['status'] == 'CLOSED_TEMPORARILY']['stars'].value_counts(), x = maindf[maindf['status'] == 'CLOSED_TEMPORARILY']['stars'].value_counts().index)\n",
    "plt.title('Temporarily Closed Restaurants by NYTimes Stars')\n",
    "plt.xticks([0,1,2,3,4]);"
   ]
  },
  {
   "cell_type": "code",
   "execution_count": null,
   "metadata": {},
   "outputs": [],
   "source": [
    "plt.bar(height = maindf[maindf['status'] == 'OPERATIONAL']['stars'].value_counts(), x = maindf[maindf['status'] == 'OPERATIONAL']['stars'].value_counts().index)\n",
    "plt.title('Currently Operating Restaurants by NYTimes Stars')\n",
    "plt.xticks([0,1,2,3,4])\n",
    "plt.ylim(0,160);"
   ]
  },
  {
   "cell_type": "code",
   "execution_count": null,
   "metadata": {},
   "outputs": [],
   "source": [
    "plt.bar(height = maindf['stars'].value_counts(), x = maindf['stars'].value_counts().index)\n",
    "plt.title('Total Star Counts from Pete Wells Reviews');"
   ]
  },
  {
   "cell_type": "code",
   "execution_count": null,
   "metadata": {},
   "outputs": [],
   "source": [
    "maindf.groupby(['borough'])['stars'].value_counts().unstack(level=0).plot(kind='bar', subplots=False);"
   ]
  },
  {
   "cell_type": "code",
   "execution_count": null,
   "metadata": {},
   "outputs": [],
   "source": [
    "maindf.groupby('borough')['status'].value_counts().unstack(level= 0).plot(kind = 'barh', subplots = False);"
   ]
  },
  {
   "cell_type": "code",
   "execution_count": null,
   "metadata": {},
   "outputs": [],
   "source": []
  }
 ]
}